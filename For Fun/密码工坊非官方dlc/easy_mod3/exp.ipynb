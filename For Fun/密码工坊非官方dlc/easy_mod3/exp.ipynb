{
 "cells": [
  {
   "cell_type": "code",
   "execution_count": 9,
   "metadata": {},
   "outputs": [
    {
     "name": "stdout",
     "output_type": "stream",
     "text": [
      "NSSCTF{NNNssNsNNNNsNNNsNNNNNssNNNssNNNsNsNNsNsNNssNNNNNNsNNNssNsNNNNNssNssssNsNNsNsssNNNNssNNNssNsNNssNsNss}\n"
     ]
    }
   ],
   "source": [
    "from Crypto.Util.number import *\n",
    "\n",
    "p = 421384892562377694077340767015240048728671794320496268132504965422627021346504549648945043590200571\n",
    "c = 273111533929258227142700975315635731051782710899867431150541189647916512765137757827512121549727178\n",
    "\n",
    "a = inverse(ord(\"s\")-ord(\"N\"),p)\n",
    "\n",
    "prefix = b\"NSSCTF{\"\n",
    "suffix = b\"}\"\n",
    "length = 108 - len(prefix) - len(suffix)\n",
    "\n",
    "#part1 remove prefix and suffix\n",
    "c -= 256^(len(suffix) + length) * bytes_to_long(prefix)\n",
    "c -= bytes_to_long(suffix)\n",
    "c = c * inverse(256,p) % p\n",
    "\n",
    "L = Matrix(ZZ,length+2,length+2)\n",
    "for i in range(length):\n",
    "    L[i,i] = 1\n",
    "    L[i,-1] = 256^i\n",
    "    c -= 256^i*78\n",
    "    c %= p\n",
    "c = a*c % p\n",
    "\n",
    "L[-2,-2] = 1\n",
    "L[-2,-1] = -c\n",
    "L[-1,-1] = p\n",
    "L[:,-1:] *= p\n",
    "res = L.BKZ()\n",
    "\n",
    "flag1 = \"NSSCTF{\"\n",
    "flag2 = \"NSSCTF{\"\n",
    "for i in res[:-1]:\n",
    "    if(all(abs(j) <= 1 for j in i[:-2])):\n",
    "        for j in i[:-2][::-1]:\n",
    "            if(abs(j) == 1):\n",
    "                flag1 += \"N\"\n",
    "                flag2 += \"s\"\n",
    "            else:\n",
    "                flag1 += \"s\"\n",
    "                flag2 += \"N\"\n",
    "flag1 += \"}\"\n",
    "flag2 += \"}\"\n",
    "\n",
    "if(bytes_to_long(flag1.encode()) % p == 273111533929258227142700975315635731051782710899867431150541189647916512765137757827512121549727178):\n",
    "    print(flag1)\n",
    "elif(bytes_to_long(flag2.encode()) % p == 273111533929258227142700975315635731051782710899867431150541189647916512765137757827512121549727178):\n",
    "    print(flag2)\n",
    "\n",
    "\n",
    "#NSSCTF{NNNssNsNNNNsNNNsNNNNNssNNNssNNNsNsNNsNsNNssNNNNNNsNNNssNsNNNNNssNssssNsNNsNsssNNNNssNNNssNsNNssNsNss}"
   ]
  }
 ],
 "metadata": {
  "kernelspec": {
   "display_name": "SageMath 10.2",
   "language": "sage",
   "name": "sagemath"
  },
  "language_info": {
   "codemirror_mode": {
    "name": "ipython",
    "version": 3
   },
   "file_extension": ".py",
   "mimetype": "text/x-python",
   "name": "python",
   "nbconvert_exporter": "python",
   "pygments_lexer": "ipython3",
   "version": "3.11.6"
  }
 },
 "nbformat": 4,
 "nbformat_minor": 2
}
