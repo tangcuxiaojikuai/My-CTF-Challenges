{
 "cells": [
  {
   "cell_type": "code",
   "execution_count": 49,
   "metadata": {},
   "outputs": [
    {
     "name": "stderr",
     "output_type": "stream",
     "text": [
      " 62%|█████████████████████████████████████████████████████▏                               | 5/8 [03:46<02:16, 45.37s/it]"
     ]
    },
    {
     "name": "stdout",
     "output_type": "stream",
     "text": [
      "b'NSSCTF{An0t3hr_b3tt3r_m3th0d_t0_brut3f0rc3_c0pp3r!}'\n"
     ]
    },
    {
     "name": "stderr",
     "output_type": "stream",
     "text": [
      "\n"
     ]
    }
   ],
   "source": [
    "from Crypto.Util.number import *\n",
    "from tqdm import *\n",
    "\n",
    "num = 215656441\n",
    "last = 2*3*5\n",
    "bits = 282\n",
    "\n",
    "n = 83732821313465518052403665361614770500711747426707910445616394700719876467737514967114877768176244233541342950517438107504392659632618504678367884223695674258126620001220856677629607205209582904215330731871567514530350222492246762740556482040907225061791231222448377878854527601783227627969726021295513927063\n",
    "c = 46663818733755991848242947341712498383456884024793897130170411388799402223110989123025227270450872334684154450132747808192836148157068113180136519163245994436646022864578219391320904777242102617963109623497099134092899460260651347833764105572783843769863133591669278971958095602865992957181139586462882547338\n",
    "leak1 = 1166802227519044965330497437183661580954600955790078699599066071608461\n",
    "leak2 = 100652187\n",
    "\n",
    "ph = (leak1 << bits) - ((leak1 << bits) % (last*num))\n",
    "possible_i = []\n",
    "for i in range(last):\n",
    "    temp = i*num + leak2\n",
    "    if(GCD(temp,last) == 1):\n",
    "        possible_i.append(temp)\n",
    "\n",
    "PR.<x> = PolynomialRing(Zmod(n))\n",
    "for i in tqdm(possible_i):\n",
    "    f = ph + (last*num)*x + i\n",
    "    f = f.monic()\n",
    "    res = f.small_roots(X = (2^bits // (last*num)) , beta=0.499,epsilon=0.01)\n",
    "    if(res != []):\n",
    "        p = int(ph + (last*num)*int(res[0]) +i)\n",
    "        q = n // p\n",
    "        m = pow(c,(inverse(65537,(p-1)*(q-1))),n)\n",
    "        print(long_to_bytes(int(m)))\n",
    "        break"
   ]
  }
 ],
 "metadata": {
  "kernelspec": {
   "display_name": "SageMath 10.2",
   "language": "sage",
   "name": "sagemath"
  },
  "language_info": {
   "codemirror_mode": {
    "name": "ipython",
    "version": 3
   },
   "file_extension": ".py",
   "mimetype": "text/x-python",
   "name": "python",
   "nbconvert_exporter": "python",
   "pygments_lexer": "ipython3",
   "version": "3.11.6"
  }
 },
 "nbformat": 4,
 "nbformat_minor": 2
}
