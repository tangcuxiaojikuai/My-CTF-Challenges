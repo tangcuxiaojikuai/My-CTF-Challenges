{
 "cells": [
  {
   "cell_type": "code",
   "execution_count": 13,
   "metadata": {
    "vscode": {
     "languageId": "python"
    }
   },
   "outputs": [
    {
     "name": "stdout",
     "output_type": "stream",
     "text": [
      "25350625451533421162474265547571536103420331260232652121722452361537257541460235\n"
     ]
    }
   ],
   "source": [
    "from Crypto.Util.number import *\n",
    "\n",
    "\n",
    "p = 324556397741108806830285502585098109678766437252172614832253074632331911859471735318636292671562523\n",
    "c = 141624663734155235543198856069652171779130720945875442624943917912062658275440028763836569215230250\n",
    "\n",
    "prefix = b\"NSSCTF{\"\n",
    "suffix = b\"}\"\n",
    "length = 88 - len(prefix) - len(suffix)\n",
    "\n",
    "#part1 remove prefix and suffix\n",
    "c -= 256^(len(suffix) + length) * bytes_to_long(prefix)\n",
    "c -= bytes_to_long(suffix)\n",
    "c = c * inverse(256,p) % p\n",
    "\n",
    "L = Matrix(ZZ,length+2,length+2)\n",
    "for i in range(length):\n",
    "    L[i,i] = 1\n",
    "    L[i,-1] = 256^i\n",
    "    c -= 256^i*48\n",
    "    c -= 256^i*3\n",
    "\n",
    "L[-2,-2] = 1\n",
    "L[-2,-1] = -c\n",
    "L[-1,-1] = p\n",
    "L[:,-1:] *= p\n",
    "res = L.BKZ()\n",
    "\n",
    "flag = \"\"\n",
    "for i in res[:-1]:\n",
    "    if(all(abs(j) <= 4 for j in i[:-2])):\n",
    "        if(i[-2] == 1):\n",
    "            for j in i[:-2][::-1]:\n",
    "                flag += chr(48 + 3 + j)\n",
    "        else:\n",
    "            for j in i[:-2][::-1]:\n",
    "                flag += chr(48 + 3 - j)\n",
    "if(flag != \"\"):\n",
    "    print(flag)\n",
    "\n",
    "#NSSCTF{25350625451533421162474265547571536103420331260232652121722452361537257541460235}"
   ]
  }
 ],
 "metadata": {
  "kernelspec": {
   "display_name": "SageMath 10.2",
   "language": "sage",
   "name": "sagemath"
  },
  "language_info": {
   "codemirror_mode": {
    "name": "ipython",
    "version": 3
   },
   "file_extension": ".py",
   "mimetype": "text/x-python",
   "name": "sage",
   "nbconvert_exporter": "python",
   "pygments_lexer": "ipython3",
   "version": "3.11.6"
  }
 },
 "nbformat": 4,
 "nbformat_minor": 2
}
