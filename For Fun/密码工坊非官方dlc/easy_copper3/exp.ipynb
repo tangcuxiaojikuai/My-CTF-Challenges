{
 "cells": [
  {
   "cell_type": "code",
   "execution_count": null,
   "metadata": {},
   "outputs": [],
   "source": [
    "from Crypto.Util.number import *\n",
    "from multiprocessing import Pool\n",
    "from tqdm import *\n",
    "\n",
    "n = 57054300236523364297068573084561858708294662390960413501481702646411973922601148943850295724745015979460852792874663924727251780057665081615966986614006891899776582114850433561286026344516509555159123543852355598205747122411634510298915483597709877911019093953862935760391037639842229970271659629400825516949\n",
    "e = 3914808559\n",
    "c = 34367961236912765697312756121175172638962230270006286310938236988443532571967649877497844350082733634910858022991620956125616557464236977620127700161939950208821044710180411053388650174106798369640918760166665311872344484980029847646184112357339382437302111172508120844002507660831969088208714656235021379114\n",
    "u = 3971337705608798216937148389824777665706019231614517125236102421717365951782208458636759087630906187451681891734064328433966129922001851802738564150946911\n",
    "\n",
    "def attack(q_low):\n",
    "    PR.<x> = PolynomialRing(Zmod(n))\n",
    "    f = u*(2310*x + q_low)^2 - (2310*x + q_low)\n",
    "    f = f.monic()\n",
    "    res = f.small_roots(X=2^512//2310,beta=1,epsilon=0.0199)\n",
    "\n",
    "    if(res != []):\n",
    "        print(q_low)\n",
    "        q = 2310*int(res[0]) + q_low\n",
    "        p = n // q\n",
    "        print(long_to_bytes(int(pow(c,inverse(e,(p-1)*(q-1)),n))))\n",
    "        return True\n",
    "\n",
    "pos = []\n",
    "for i in range(1,2310):\n",
    "    if(GCD(i,2310) == 1):\n",
    "        pos.append(i)\n",
    "\n",
    "#q_low = 1751\n",
    "with Pool(16) as pool:\n",
    "    for i in tqdm(pool.imap(attack, pos), total=len(pos)):\n",
    "        if(i == True):\n",
    "            break\n",
    "\n",
    "#NSSCTF{En0ugh_F0r_c0op3r!}"
   ]
  }
 ],
 "metadata": {
  "kernelspec": {
   "display_name": "SageMath 10.3",
   "language": "sage",
   "name": "sagemath"
  },
  "language_info": {
   "codemirror_mode": {
    "name": "ipython",
    "version": 3
   },
   "file_extension": ".py",
   "mimetype": "text/x-python",
   "name": "python",
   "nbconvert_exporter": "python",
   "pygments_lexer": "ipython3",
   "version": "3.12.3"
  }
 },
 "nbformat": 4,
 "nbformat_minor": 2
}
