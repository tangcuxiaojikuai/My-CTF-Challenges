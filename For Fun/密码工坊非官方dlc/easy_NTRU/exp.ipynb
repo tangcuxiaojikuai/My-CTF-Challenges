{
 "cells": [
  {
   "cell_type": "code",
   "execution_count": 8,
   "metadata": {
    "vscode": {
     "languageId": "python"
    }
   },
   "outputs": [
    {
     "name": "stdout",
     "output_type": "stream",
     "text": [
      "Task_1s_to_FinD_where_th3_!!NSSCTF!!_IS_in_thi5_FLAGHhah!"
     ]
    }
   ],
   "source": [
    "from Crypto.Util.number import *\n",
    "from tqdm import *\n",
    "\n",
    "h = 1756927950546402823211991210884487117388985427696056353000574684529449680817044069252055937789026298359737442776894512901268732373696001068086438971265520\n",
    "p = 9154925474221530551204374718472364426110749279786123087256403092166680682021327157348820042798042742469289027059354748716972834115194900518063143041804941\n",
    "flag_len = 65\n",
    "prefix = bytes_to_long(b\"NSSCTF{\")*256^(flag_len-7)\n",
    "suffix = bytes_to_long(b\"}\")\n",
    "middle_len = 10\n",
    "\n",
    "for location in range(1,flag_len-7-middle_len+1):\n",
    "    middle = bytes_to_long((\"!!NSSCTF!!\").encode())*256^location\n",
    "    constant = prefix + middle + suffix\n",
    "\n",
    "    c2_len = location-1\n",
    "    c1_len = flag_len - middle_len - 1 - 7 - c2_len\n",
    "    c2_loc = 1\n",
    "    c1_loc = 1 + c2_len + middle_len\n",
    "    \n",
    "    L = Matrix(ZZ,[[1,0,0,256^c1_loc*h],\n",
    "                [0,1,0,256^c2_loc*h],\n",
    "                [0,0,1,constant*h],\n",
    "                [0,0,0,p]])\n",
    "    \n",
    "    T = max(256^c1_len,256^c2_len,2^128)\n",
    "    Q = diagonal_matrix([T//(256^c1_len) , T//(256^c2_len) , T , T//2^128])\n",
    "    L = L*Q\n",
    "    L = L.LLL()\n",
    "    res = L[0]\n",
    "    L = L/Q\n",
    "    res = L[0]\n",
    "    if((res[2] == 1 or res[2] == -1) and isPrime(int(abs(res[3]))) and int(abs(res[3])).bit_length()==128):\n",
    "        try:\n",
    "            print(long_to_bytes(int(abs(res[0]))).decode(),end = \"\")\n",
    "            print(\"!!NSSCTF!!\",end = \"\")\n",
    "            print(long_to_bytes(int(abs(res[1]))).decode(),end = \"\")\n",
    "        except:\n",
    "            pass\n",
    "\n",
    "\n",
    "#NSSCTF{Task_1s_to_FinD_where_th3_!!NSSCTF!!_IS_in_thi5_FLAGHhah!}"
   ]
  }
 ],
 "metadata": {
  "kernelspec": {
   "display_name": "SageMath 10.2",
   "language": "sage",
   "name": "sagemath"
  },
  "language_info": {
   "codemirror_mode": {
    "name": "ipython",
    "version": 3
   },
   "file_extension": ".py",
   "mimetype": "text/x-python",
   "name": "sage",
   "nbconvert_exporter": "python",
   "pygments_lexer": "ipython3",
   "version": "3.11.6"
  }
 },
 "nbformat": 4,
 "nbformat_minor": 2
}
