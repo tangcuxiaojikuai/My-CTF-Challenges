{
 "cells": [
  {
   "cell_type": "code",
   "execution_count": 21,
   "metadata": {},
   "outputs": [
    {
     "name": "stdout",
     "output_type": "stream",
     "text": [
      "5036541772751046406531362142757356307107252723754051320011253505562041\n"
     ]
    }
   ],
   "source": [
    "from Crypto.Util.number import *\n",
    "\n",
    "\n",
    "p = 501785758961383005891491265699612686883993041794260611346802080899615437298977076093878384543577171\n",
    "c = 327005346153237517234971706274055111857447948791422192829214537757745905845319188257204611848165263\n",
    "prefix = b\"NSSCTF{\"\n",
    "suffix = b\"}\"\n",
    "length = 78 - len(prefix) - len(suffix)\n",
    "\n",
    "#part1 remove prefix and suffix\n",
    "c -= 256^(len(suffix) + length) * bytes_to_long(prefix)\n",
    "c -= bytes_to_long(suffix)\n",
    "c = c * inverse(256,p) % p\n",
    "\n",
    "L = Matrix(ZZ,length+2,length+2)\n",
    "for i in range(length):\n",
    "    L[i,i] = 1\n",
    "    L[i,-1] = 256^i\n",
    "    c -= 256^i*48\n",
    "\n",
    "L[-2,-2] = 4\n",
    "L[-2,-1] = -c\n",
    "L[-1,-1] = p\n",
    "L[:,-1:] *= p\n",
    "res = L.BKZ()\n",
    "flag = \"\"\n",
    "for i in res[:-1]:\n",
    "    if(abs(i[-2]) == 4 and all(abs(j) < 8 for j in i[:-2])):\n",
    "        for j in i[:-2][::-1]:\n",
    "            flag += chr(48 + abs(j))\n",
    "print(flag)\n",
    "\n",
    "\n",
    "#NSSCTF{5036541772751046406531362142757356307107252723754051320011253505562041}"
   ]
  }
 ],
 "metadata": {
  "kernelspec": {
   "display_name": "SageMath 10.2",
   "language": "sage",
   "name": "sagemath"
  },
  "language_info": {
   "codemirror_mode": {
    "name": "ipython",
    "version": 3
   },
   "file_extension": ".py",
   "mimetype": "text/x-python",
   "name": "python",
   "nbconvert_exporter": "python",
   "pygments_lexer": "ipython3",
   "version": "3.11.6"
  }
 },
 "nbformat": 4,
 "nbformat_minor": 2
}
