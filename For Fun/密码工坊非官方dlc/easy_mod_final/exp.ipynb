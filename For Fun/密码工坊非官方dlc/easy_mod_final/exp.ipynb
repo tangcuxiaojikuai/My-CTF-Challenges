{
 "cells": [
  {
   "cell_type": "code",
   "execution_count": 1,
   "metadata": {},
   "outputs": [
    {
     "name": "stdout",
     "output_type": "stream",
     "text": [
      "GEEGEEEMEEMMAAMGGGGEEGMMAMEGGEEEGAGGMEMEMMAMGGGEAAGMGEAAGEMMEEEMGMAAMMGEAAEEEEEGGEMMMMAEGAAAMEMEAEGE\n"
     ]
    }
   ],
   "source": [
    "from Crypto.Util.number import *\n",
    "from random import *\n",
    "\n",
    "\n",
    "p = 2271129678202363707972156644097566224560370806295266873816026779022614695317611229903770390498322537051358521932851893609555063610221\n",
    "c = 244176818026839545554951436126300508547217557099550914232243928051857553603712968234687200629719468115535825237511413058786560692170\n",
    "table = [ord(i) for i in \"AEGM\"]\n",
    "\n",
    "#part1 linear transformation and remove prefix and suffix\n",
    "a = 1 * inverse(table[1]-table[2],p)\n",
    "b = (1 - a*table[1]) % p\n",
    "prefix = b\"NSSCTF{\"\n",
    "suffix = b\"}\"\n",
    "length = 108 - len(prefix) - len(suffix)\n",
    "c -= 256^(len(suffix) + length) * bytes_to_long(prefix)\n",
    "c -= bytes_to_long(suffix)\n",
    "c = c * inverse(256,p) % p\n",
    "c = a*c % p\n",
    "\n",
    "#part2 BKZ\n",
    "\n",
    "L = Matrix(ZZ,length+2,length+2)\n",
    "for i in range(length):\n",
    "    L[i,i] = 1\n",
    "    L[i,-1] = 256^i\n",
    "    c += 256^i*b\n",
    "    c %= p\n",
    "\n",
    "L[-2,-2] = 1\n",
    "L[-2,-1] = -c\n",
    "L[-1,-1] = p\n",
    "L[:,-1:] *= p\n",
    "res = L.BKZ()\n",
    "\n",
    "flag = \"\"\n",
    "for i in res[:-1]:\n",
    "    if(all(abs(j) <= 3 for j in i[:-2])):\n",
    "        if(1 in i):\n",
    "            for j in i[:-2][::-1]:\n",
    "                if(j == 1):\n",
    "                    flag += \"E\"\n",
    "                elif(j == 3):\n",
    "                    flag += \"A\"\n",
    "                elif(j == 0):\n",
    "                    flag += \"G\"\n",
    "                else:\n",
    "                    flag += \"M\"\n",
    "        else:\n",
    "            for j in i[:-2][::-1]:\n",
    "                if(j == -1):\n",
    "                    flag += \"E\"\n",
    "                elif(j == -3):\n",
    "                    flag += \"A\"\n",
    "                elif(j == 0):\n",
    "                    flag += \"G\"\n",
    "                else:\n",
    "                    flag += \"M\"\n",
    "print(flag)\n",
    "\n",
    "\n",
    "#NSSCTF{GEEGEEEMEEMMAAMGGGGEEGMMAMEGGEEEGAGGMEMEMMAMGGGEAAGMGEAAGEMMEEEMGMAAMMGEAAEEEEEGGEMMMMAEGAAAMEMEAEGE}"
   ]
  }
 ],
 "metadata": {
  "kernelspec": {
   "display_name": "SageMath 10.2",
   "language": "sage",
   "name": "sagemath"
  },
  "language_info": {
   "codemirror_mode": {
    "name": "ipython",
    "version": 3
   },
   "file_extension": ".py",
   "mimetype": "text/x-python",
   "name": "python",
   "nbconvert_exporter": "python",
   "pygments_lexer": "ipython3",
   "version": "3.11.6"
  }
 },
 "nbformat": 4,
 "nbformat_minor": 2
}
