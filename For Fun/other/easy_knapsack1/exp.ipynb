{
 "cells": [
  {
   "cell_type": "code",
   "execution_count": 3,
   "metadata": {},
   "outputs": [
    {
     "name": "stderr",
     "output_type": "stream",
     "text": [
      "100%|████████████████████████████████████████████████████████████████████████████████| 207/207 [00:00<00:00, 847.53it/s]\n"
     ]
    },
    {
     "name": "stdout",
     "output_type": "stream",
     "text": [
      "b'An0th3r_W4Y_T0_DLP_@nD_LLL'\n"
     ]
    }
   ],
   "source": [
    "from Crypto.Util.number import *\n",
    "from sympy.ntheory.modular import crt\n",
    "from tqdm import *\n",
    "\n",
    "#data\n",
    "p = \n",
    "q = \n",
    "gA = \n",
    "s = \n",
    "\n",
    "\n",
    "\n",
    "length = len(gA)\n",
    "n = p*q\n",
    "\n",
    "\n",
    "#part1 dlog by p-adic,q-adic and crt to get A\n",
    "A = []\n",
    "Rp = Zp(p, prec=2)\n",
    "Rq = Zp(q, prec=2)\n",
    "for i in trange(length):\n",
    "    xp = (Rp(gA[i]).log() / Rp(2).log()).lift()\n",
    "    xq = (Rq(gA[i]).log() / Rq(2).log()).lift()\n",
    "    x = crt([p,q],[xp,xq])[0]\n",
    "    A.append(x)\n",
    "Bp = (Rp(s).log() / Rp(2).log()).lift()\n",
    "Bq = (Rq(s).log() / Rq(2).log()).lift()\n",
    "B = crt([p,q],[Bp,Bq])[0]\n",
    "\n",
    "\n",
    "#part2 LLL\n",
    "L = Matrix(ZZ,len(A)+2,len(A)+2)\n",
    "for i in range(len(A)):\n",
    "    L[i,i] = 2\n",
    "    L[-2,i] = -1\n",
    "    L[i,-1] = A[i]\n",
    "L[-2,-2] = 1\n",
    "L[-2,-1] = -B\n",
    "L[-1,-1] = n\n",
    "L[:,-1:] *= n\n",
    "\n",
    "bag = []\n",
    "res = L.LLL()[0]\n",
    "vec = vector(ZZ,res[:-2])\n",
    "if(res[-2] == -1):\n",
    "    vec = - vec\n",
    "for i in vec:\n",
    "    bag.append((i + 1) // 2)\n",
    "\n",
    "\n",
    "#part3 get flag\n",
    "flag = \"\".join(list(map(str,bag)))\n",
    "flag = long_to_bytes(int(flag,2))\n",
    "print(flag)\n",
    "\n",
    "\n",
    "#NSSCTF{An0th3r_W4Y_T0_DLP_@nD_LLL}"
   ]
  }
 ],
 "metadata": {
  "kernelspec": {
   "display_name": "SageMath 10.2",
   "language": "sage",
   "name": "sagemath"
  },
  "language_info": {
   "codemirror_mode": {
    "name": "ipython",
    "version": 3
   },
   "file_extension": ".py",
   "mimetype": "text/x-python",
   "name": "python",
   "nbconvert_exporter": "python",
   "pygments_lexer": "ipython3",
   "version": "3.11.6"
  }
 },
 "nbformat": 4,
 "nbformat_minor": 2
}
