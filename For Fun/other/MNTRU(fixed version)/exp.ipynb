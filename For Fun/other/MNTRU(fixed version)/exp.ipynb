{
 "cells": [
  {
   "cell_type": "code",
   "execution_count": 1,
   "metadata": {
    "vscode": {
     "languageId": "python"
    }
   },
   "outputs": [],
   "source": [
    "from Crypto.Util.number import *\n",
    "\n",
    "#part1 construct matrix of poly_mul\n",
    "\n",
    "#n:The highest degree of a modular polynomial\n",
    "#v:vector of modular polynomial\n",
    "#a:vector of a polynomial multiplier\n",
    "\n",
    "#aim to construct a matrix of c=a*b%v\n",
    "def construct_poly_mul_mat(n,v,b):\n",
    "    assert v[-1] == 1 #use this after monic\n",
    "\n",
    "    #step1 construct a matrix of d=a*b\n",
    "    mat1 = Matrix(ZZ,n,2*n-1)\n",
    "    for i in range(n):\n",
    "        for j in range(n):\n",
    "            mat1[i,j+i] = b[j] \n",
    "\n",
    "    #step2 construct a matrix of c=d%v\n",
    "    mat2 = Matrix(ZZ,2*n-1,n)\n",
    "    for i in range(n):\n",
    "        mat2[i,i] = 1\n",
    "    for i in range(n,2*n-1):\n",
    "        for j in range(i-n,n):\n",
    "            mat2[i,j] = -v[j-(i-n)]\n",
    "        \n",
    "        init_row = vector(ZZ,n*[0])\n",
    "        for j in range(i-n):\n",
    "            temp = -v[n-1-j]*vector(ZZ,mat2[i-j-1])\n",
    "            init_row += temp\n",
    "        for j in range(n):\n",
    "            mat2[i,j] += init_row[j]   \n",
    "             \n",
    "    #step3 multiply them and return\n",
    "    return(mat1*mat2)"
   ]
  },
  {
   "cell_type": "code",
   "execution_count": 6,
   "metadata": {
    "vscode": {
     "languageId": "python"
    }
   },
   "outputs": [],
   "source": [
    "PRz.<xz> = PolynomialRing(ZZ)\n",
    "\n",
    "H = [[340*xz^63 + 6589*xz^62 + 9575*xz^61 + 4261*xz^60 + 9906*xz^59 + 11186*xz^58 + 5860*xz^57 + 6300*xz^56 + 4276*xz^55 + 8065*xz^54 + 210*xz^53 + 7651*xz^52 + 3878*xz^51 + 11603*xz^50 + 377*xz^49 + 430*xz^48 + 10266*xz^47 + 8188*xz^46 + 5862*xz^45 + 2120*xz^44 + 10826*xz^43 + 9725*xz^42 + 8649*xz^41 + 7542*xz^40 + 4844*xz^39 + 8890*xz^38 + 3557*xz^37 + 3464*xz^36 + 6286*xz^35 + 339*xz^34 + 1568*xz^33 + 3339*xz^32 + 9565*xz^31 + 902*xz^30 + 11481*xz^29 + 10054*xz^28 + 11924*xz^27 + 7489*xz^26 + 8207*xz^25 + 10399*xz^24 + 294*xz^23 + 2985*xz^22 + 10059*xz^21 + 114*xz^20 + 3318*xz^19 + 10651*xz^18 + 7350*xz^17 + 8787*xz^16 + 11489*xz^15 + 7445*xz^14 + 5324*xz^13 + 4422*xz^12 + 6575*xz^11 + 8443*xz^10 + 7554*xz^9 + 6439*xz^8 + 1488*xz^7 + 6768*xz^6 + 5127*xz^5 + 750*xz^4 + 9322*xz^3 + 5255*xz^2 + 4156*xz + 4291], [6189*xz^63 + 9351*xz^62 + 11071*xz^61 + 8053*xz^60 + 2746*xz^59 + 5677*xz^58 + 5943*xz^57 + 4387*xz^56 + 407*xz^55 + 1577*xz^54 + 9989*xz^53 + 1726*xz^52 + 6740*xz^51 + 5127*xz^50 + 5901*xz^49 + 5004*xz^48 + 9808*xz^47 + 2810*xz^46 + 10420*xz^45 + 4875*xz^44 + 5158*xz^43 + 1833*xz^42 + 4553*xz^41 + 10006*xz^40 + 4791*xz^39 + 878*xz^38 + 2751*xz^37 + 4081*xz^36 + 9118*xz^35 + 8861*xz^34 + 5331*xz^33 + 5666*xz^32 + 7687*xz^31 + 11612*xz^30 + 5272*xz^29 + 6484*xz^28 + 5476*xz^27 + 9345*xz^26 + 232*xz^25 + 11574*xz^24 + 4098*xz^23 + 6049*xz^22 + 11200*xz^21 + 4069*xz^20 + 1174*xz^19 + 623*xz^18 + 8097*xz^17 + 8936*xz^16 + 9210*xz^15 + 59*xz^14 + 10331*xz^13 + 125*xz^12 + 9892*xz^11 + 5265*xz^10 + 8680*xz^9 + 2033*xz^8 + 7892*xz^7 + 11764*xz^6 + 11402*xz^5 + 10937*xz^4 + 3805*xz^3 + 264*xz^2 + 4073*xz + 11142]]\n",
    "c = 11253*xz^63 + 6375*xz^62 + 3301*xz^61 + 1515*xz^60 + 4564*xz^59 + 5340*xz^58 + 1877*xz^57 + 7208*xz^56 + 10575*xz^55 + 11607*xz^54 + 4932*xz^53 + 7070*xz^52 + 10676*xz^51 + 11171*xz^50 + 4221*xz^49 + 10963*xz^48 + 6195*xz^47 + 11489*xz^46 + 734*xz^45 + 2749*xz^44 + 3224*xz^43 + 6341*xz^42 + 10369*xz^41 + 9646*xz^40 + 2654*xz^39 + 9068*xz^38 + 2065*xz^37 + 6202*xz^36 + 4976*xz^35 + 7781*xz^34 + 7385*xz^33 + 8779*xz^32 + 10589*xz^31 + 1649*xz^30 + 6891*xz^29 + 1467*xz^28 + 8305*xz^27 + 3161*xz^26 + 4675*xz^25 + 7001*xz^24 + 7618*xz^23 + 2312*xz^22 + 1400*xz^21 + 2579*xz^20 + 959*xz^19 + 4575*xz^18 + 695*xz^17 + 6919*xz^16 + 5992*xz^15 + 272*xz^14 + 9179*xz^13 + 9188*xz^12 + 10138*xz^11 + 8342*xz^10 + 10160*xz^9 + 6264*xz^8 + 1513*xz^7 + 1860*xz^6 + 9258*xz^5 + 3903*xz^4 + 5820*xz^3 + 7053*xz^2 + 4386*xz + 11507\n",
    "q = 12289\n",
    "p = 17\n",
    "n = 64\n",
    "\n",
    "PRq = PolynomialRing(Zmod(q), 'xq')\n",
    "PRp = PolynomialRing(Zmod(p), 'xp')\n",
    "mod_polynomial = PRz.cyclotomic_polynomial(64 * 2)\n",
    "PRqm = PRq.quotient(mod_polynomial)\n",
    "PRpm = PRp.quotient(mod_polynomial)\n",
    "\n",
    "n = 64\n",
    "PRq.<x> = PolynomialRing(Zmod(q))\n",
    "f = x^n + 1\n",
    "v = f.list()"
   ]
  },
  {
   "cell_type": "code",
   "execution_count": 7,
   "metadata": {
    "vscode": {
     "languageId": "python"
    }
   },
   "outputs": [],
   "source": [
    "H1 = construct_poly_mul_mat(n,v,H[0][0].list())\n",
    "H2 = construct_poly_mul_mat(n,v,H[1][0].list())\n",
    "# F(0,0)H1 + F(0,1)H2 = G(0,0)\n",
    "# -> BKZ\n",
    "\n",
    "L = block_matrix(ZZ, [\n",
    "    [identity_matrix(n), matrix.zero(n,n), H1],\n",
    "    [matrix.zero(n,n), identity_matrix(n), H2],\n",
    "    [matrix.zero(n,n), matrix.zero(n,n), identity_matrix(n)*q]\n",
    "])\n",
    "L = L.BKZ(block_size=30)"
   ]
  },
  {
   "cell_type": "code",
   "execution_count": 8,
   "metadata": {
    "vscode": {
     "languageId": "python"
    }
   },
   "outputs": [
    {
     "name": "stdout",
     "output_type": "stream",
     "text": [
      "0 2\n",
      "sqrt(39)\n",
      "2*sqrt(10)\n",
      "[340*xqbar^63 + 6589*xqbar^62 + 9575*xqbar^61 + 4261*xqbar^60 + 9906*xqbar^59 + 11186*xqbar^58 + 5860*xqbar^57 + 6300*xqbar^56 + 4276*xqbar^55 + 8065*xqbar^54 + 210*xqbar^53 + 7651*xqbar^52 + 3878*xqbar^51 + 11603*xqbar^50 + 377*xqbar^49 + 430*xqbar^48 + 10266*xqbar^47 + 8188*xqbar^46 + 5862*xqbar^45 + 2120*xqbar^44 + 10826*xqbar^43 + 9725*xqbar^42 + 8649*xqbar^41 + 7542*xqbar^40 + 4844*xqbar^39 + 8890*xqbar^38 + 3557*xqbar^37 + 3464*xqbar^36 + 6286*xqbar^35 + 339*xqbar^34 + 1568*xqbar^33 + 3339*xqbar^32 + 9565*xqbar^31 + 902*xqbar^30 + 11481*xqbar^29 + 10054*xqbar^28 + 11924*xqbar^27 + 7489*xqbar^26 + 8207*xqbar^25 + 10399*xqbar^24 + 294*xqbar^23 + 2985*xqbar^22 + 10059*xqbar^21 + 114*xqbar^20 + 3318*xqbar^19 + 10651*xqbar^18 + 7350*xqbar^17 + 8787*xqbar^16 + 11489*xqbar^15 + 7445*xqbar^14 + 5324*xqbar^13 + 4422*xqbar^12 + 6575*xqbar^11 + 8443*xqbar^10 + 7554*xqbar^9 + 6439*xqbar^8 + 1488*xqbar^7 + 6768*xqbar^6 + 5127*xqbar^5 + 750*xqbar^4 + 9322*xqbar^3 + 5255*xqbar^2 + 4156*xqbar + 4291, 6189*xqbar^63 + 9351*xqbar^62 + 11071*xqbar^61 + 8053*xqbar^60 + 2746*xqbar^59 + 5677*xqbar^58 + 5943*xqbar^57 + 4387*xqbar^56 + 407*xqbar^55 + 1577*xqbar^54 + 9989*xqbar^53 + 1726*xqbar^52 + 6740*xqbar^51 + 5127*xqbar^50 + 5901*xqbar^49 + 5004*xqbar^48 + 9808*xqbar^47 + 2810*xqbar^46 + 10420*xqbar^45 + 4875*xqbar^44 + 5158*xqbar^43 + 1833*xqbar^42 + 4553*xqbar^41 + 10006*xqbar^40 + 4791*xqbar^39 + 878*xqbar^38 + 2751*xqbar^37 + 4081*xqbar^36 + 9118*xqbar^35 + 8861*xqbar^34 + 5331*xqbar^33 + 5666*xqbar^32 + 7687*xqbar^31 + 11612*xqbar^30 + 5272*xqbar^29 + 6484*xqbar^28 + 5476*xqbar^27 + 9345*xqbar^26 + 232*xqbar^25 + 11574*xqbar^24 + 4098*xqbar^23 + 6049*xqbar^22 + 11200*xqbar^21 + 4069*xqbar^20 + 1174*xqbar^19 + 623*xqbar^18 + 8097*xqbar^17 + 8936*xqbar^16 + 9210*xqbar^15 + 59*xqbar^14 + 10331*xqbar^13 + 125*xqbar^12 + 9892*xqbar^11 + 5265*xqbar^10 + 8680*xqbar^9 + 2033*xqbar^8 + 7892*xqbar^7 + 11764*xqbar^6 + 11402*xqbar^5 + 10937*xqbar^4 + 3805*xqbar^3 + 264*xqbar^2 + 4073*xqbar + 11142]\n",
      "[[340*xz^63 + 6589*xz^62 + 9575*xz^61 + 4261*xz^60 + 9906*xz^59 + 11186*xz^58 + 5860*xz^57 + 6300*xz^56 + 4276*xz^55 + 8065*xz^54 + 210*xz^53 + 7651*xz^52 + 3878*xz^51 + 11603*xz^50 + 377*xz^49 + 430*xz^48 + 10266*xz^47 + 8188*xz^46 + 5862*xz^45 + 2120*xz^44 + 10826*xz^43 + 9725*xz^42 + 8649*xz^41 + 7542*xz^40 + 4844*xz^39 + 8890*xz^38 + 3557*xz^37 + 3464*xz^36 + 6286*xz^35 + 339*xz^34 + 1568*xz^33 + 3339*xz^32 + 9565*xz^31 + 902*xz^30 + 11481*xz^29 + 10054*xz^28 + 11924*xz^27 + 7489*xz^26 + 8207*xz^25 + 10399*xz^24 + 294*xz^23 + 2985*xz^22 + 10059*xz^21 + 114*xz^20 + 3318*xz^19 + 10651*xz^18 + 7350*xz^17 + 8787*xz^16 + 11489*xz^15 + 7445*xz^14 + 5324*xz^13 + 4422*xz^12 + 6575*xz^11 + 8443*xz^10 + 7554*xz^9 + 6439*xz^8 + 1488*xz^7 + 6768*xz^6 + 5127*xz^5 + 750*xz^4 + 9322*xz^3 + 5255*xz^2 + 4156*xz + 4291], [6189*xz^63 + 9351*xz^62 + 11071*xz^61 + 8053*xz^60 + 2746*xz^59 + 5677*xz^58 + 5943*xz^57 + 4387*xz^56 + 407*xz^55 + 1577*xz^54 + 9989*xz^53 + 1726*xz^52 + 6740*xz^51 + 5127*xz^50 + 5901*xz^49 + 5004*xz^48 + 9808*xz^47 + 2810*xz^46 + 10420*xz^45 + 4875*xz^44 + 5158*xz^43 + 1833*xz^42 + 4553*xz^41 + 10006*xz^40 + 4791*xz^39 + 878*xz^38 + 2751*xz^37 + 4081*xz^36 + 9118*xz^35 + 8861*xz^34 + 5331*xz^33 + 5666*xz^32 + 7687*xz^31 + 11612*xz^30 + 5272*xz^29 + 6484*xz^28 + 5476*xz^27 + 9345*xz^26 + 232*xz^25 + 11574*xz^24 + 4098*xz^23 + 6049*xz^22 + 11200*xz^21 + 4069*xz^20 + 1174*xz^19 + 623*xz^18 + 8097*xz^17 + 8936*xz^16 + 9210*xz^15 + 59*xz^14 + 10331*xz^13 + 125*xz^12 + 9892*xz^11 + 5265*xz^10 + 8680*xz^9 + 2033*xz^8 + 7892*xz^7 + 11764*xz^6 + 11402*xz^5 + 10937*xz^4 + 3805*xz^3 + 264*xz^2 + 4073*xz + 11142]]\n"
     ]
    }
   ],
   "source": [
    "Found = 0\n",
    "for i in range(128):\n",
    "    for j in range(i+1,128):\n",
    "        F = Matrix(PRz, [\n",
    "            [list(map(int,L[i][:n])), list(map(int,L[i][n:2*n]))],\n",
    "            [list(map(int,L[j][:n])), list(map(int,L[j][n:2*n]))]\n",
    "        ])\n",
    "\n",
    "        G = Matrix(PRqm, [\n",
    "            [list(map(int,L[i][-n:]))],\n",
    "            [list(map(int,L[j][-n:]))]\n",
    "        ])\n",
    "\n",
    "        FF = Matrix(PRqm,2,2)\n",
    "        for ii in range(2):\n",
    "            for jj in range(2):\n",
    "                FF[ii,jj] = PRqm(F[ii,jj])\n",
    "\n",
    "        FFF = Matrix(PRpm,2,2)\n",
    "        for ii in range(2):\n",
    "            for jj in range(2):\n",
    "                FFF[ii,jj] = PRpm(F[ii,jj])\n",
    "\n",
    "        if(FF.det() != 0):\n",
    "            Found = 1\n",
    "            print(i,j)\n",
    "            print(L[i].norm())\n",
    "            print(L[j].norm())\n",
    "            print((FF^(-1)*G).list())\n",
    "            print(H)\n",
    "            break\n",
    "    if(Found == 1):\n",
    "        break"
   ]
  },
  {
   "cell_type": "code",
   "execution_count": 9,
   "metadata": {
    "vscode": {
     "languageId": "python"
    }
   },
   "outputs": [
    {
     "name": "stdout",
     "output_type": "stream",
     "text": [
      "b'NSSCTF{1cfa5581d8c6add650d1a318}'\n"
     ]
    }
   ],
   "source": [
    "from itertools import *\n",
    "\n",
    "def ZZ_to_Fq(_vector, _q, _n):\n",
    "    return [int(i % _q) if abs(_q - int(i % _q)) > int(i % _q) else (int(i % _q) - _q) for i in _vector] + [0] * (\n",
    "            _n - len(_vector))\n",
    "\n",
    "PRp = PolynomialRing(Zmod(p), 'xp')\n",
    "PRpm = PRp.quotient(mod_polynomial)\n",
    "xp = PRp.gens()[0]\n",
    "\n",
    "m = FF.det()*(PRqm(c.list()))\n",
    "mmm = ZZ_to_Fq(m.list(), q, n)\n",
    "mmmm = (PRpm(mmm)*(FFF.det()^(-1))).list()\n",
    "\n",
    "flag = 0\n",
    "for tt in range(len(mmmm)):\n",
    "    flag += int(mmmm[tt])*p^tt\n",
    "flag = long_to_bytes(flag)\n",
    "print(flag)\n",
    "\n",
    "\n",
    "#wdflag{1cfa5581d8c6add650d1a318}"
   ]
  }
 ],
 "metadata": {
  "kernelspec": {
   "display_name": "SageMath 10.3",
   "language": "sage",
   "name": "sagemath"
  },
  "language_info": {
   "codemirror_mode": {
    "name": "ipython",
    "version": 3
   },
   "file_extension": ".py",
   "mimetype": "text/x-python",
   "name": "sage",
   "nbconvert_exporter": "python",
   "pygments_lexer": "ipython3",
   "version": "3.12.3"
  }
 },
 "nbformat": 4,
 "nbformat_minor": 2
}
