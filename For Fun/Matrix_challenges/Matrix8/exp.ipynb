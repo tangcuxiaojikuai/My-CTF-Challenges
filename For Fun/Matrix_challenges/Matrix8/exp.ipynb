{
 "cells": [
  {
   "cell_type": "code",
   "execution_count": 5,
   "metadata": {},
   "outputs": [
    {
     "name": "stdout",
     "output_type": "stream",
     "text": [
      "NSSCTF{Y3t_4n0Th3r_L@graNge_InterP0lati0n_TasK}$!"
     ]
    }
   ],
   "source": [
    "from Crypto.Util.number import *\n",
    "from re import findall\n",
    "from subprocess import check_output\n",
    "\n",
    "def flatter(M):\n",
    "    # compile https://github.com/keeganryan/flatter and put it in $PATH\n",
    "    z = \"[[\" + \"]\\n[\".join(\" \".join(map(str, row)) for row in M) + \"]]\"\n",
    "    ret = check_output([\"flatter\"], input=z.encode())\n",
    "    return matrix(M.nrows(), M.ncols(), map(int, findall(b\"-?\\\\d+\", ret)))\n",
    "\n",
    "def flatten(M):\n",
    "    M_flatten = []\n",
    "    rows,cols = M.dimensions()\n",
    "    for i in range(rows):\n",
    "        for j in range(cols):\n",
    "            M_flatten.append(M[i,j])\n",
    "    return M_flatten\n",
    "\n",
    "############################################################################################### data\n",
    "p = \n",
    "C = \n",
    "\n",
    "\n",
    "############################################################################################### exp\n",
    "n = 7\n",
    "t = 1\n",
    "def matrix_lagrange_LLL(n, t, PT, p):   \n",
    "    ##### part1 flatten Ci to R\n",
    "    R = []\n",
    "    for i in range(t):\n",
    "        C = flatten(Matrix(Zmod(p), n, n, PT[i][1]))\n",
    "        for j in C:\n",
    "            R.append(j)\n",
    "    R = vector(Zmod(p), R)\n",
    "    \n",
    "    \n",
    "    ##### part2 get L\n",
    "    L = Matrix(Zmod(p), t*n^2, n^3)\n",
    "    for r in range(t):\n",
    "        A = Matrix(Zmod(p), n, n, PT[r][0])\n",
    "        for j in range(n):\n",
    "            for k in range(n):\n",
    "\n",
    "                for i in range(n):\n",
    "                    Ai = A^(i+1)\n",
    "                    for x in range(n):\n",
    "                        L[n^2*r+n*j+k,n^2*i+n*k+x] = Ai[j,x]\n",
    "\n",
    "    \n",
    "    ##### part3 LLL\n",
    "    M = block_matrix(ZZ,[\n",
    "        [1,Matrix(ZZ,L).T.stack(Matrix(ZZ,R))],\n",
    "        [0,p]\n",
    "    ])\n",
    "    M[:,-t*n^2:] *= p\n",
    "    #print(M.dimensions())\n",
    "    res = flatter(M)[0][:n^2]\n",
    "    for i in range(n):\n",
    "        for j in range(n):\n",
    "            print(chr(res[n*j+i]), end=\"\")\n",
    "\n",
    "\n",
    "matrix_lagrange_LLL(n, t, C, p)\n",
    "\n",
    "\n",
    "#NSSCTF{Y3t_4n0Th3r_L@graNge_InterP0lati0n_TasK}"
   ]
  }
 ],
 "metadata": {
  "kernelspec": {
   "display_name": "SageMath 10.3",
   "language": "sage",
   "name": "sagemath"
  },
  "language_info": {
   "codemirror_mode": {
    "name": "ipython",
    "version": 3
   },
   "file_extension": ".py",
   "mimetype": "text/x-python",
   "name": "python",
   "nbconvert_exporter": "python",
   "pygments_lexer": "ipython3",
   "version": "3.12.3"
  }
 },
 "nbformat": 4,
 "nbformat_minor": 2
}
