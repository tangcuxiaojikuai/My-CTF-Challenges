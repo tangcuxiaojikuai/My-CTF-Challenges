{
 "cells": [
  {
   "cell_type": "code",
   "execution_count": 21,
   "metadata": {
    "vscode": {
     "languageId": "python"
    }
   },
   "outputs": [
    {
     "name": "stdout",
     "output_type": "stream",
     "text": [
      "b'NSSCTF{U31nG_C0mmut@t1vE_and_Bru7eF0rCe!}'\n"
     ]
    }
   ],
   "source": [
    "from Crypto.Util.number import *\n",
    "from itertools import *\n",
    "from Crypto.Cipher import AES\n",
    "from hashlib import md5\n",
    "\n",
    "############################################################################################### data\n",
    "B =\n",
    "enc = \n",
    "\n",
    "\n",
    "############################################################################################### exp\n",
    "########################################## part1 to mat\n",
    "n = 10\n",
    "B = Matrix(GF(2), n, n, B)\n",
    "\n",
    "\n",
    "########################################## part2 get solution of BA = AB\n",
    "L = Matrix(GF(2), n^2, n^2)\n",
    "for i in range(n):\n",
    "    for j in range(n):\n",
    "        for t in range(n):\n",
    "            L[n*i+j, n*i+t] += B[t,j]\n",
    "            L[n*i+j, j+n*t] -= B[i,t]\n",
    "Ker = L.right_kernel().basis()\n",
    "\n",
    "\n",
    "########################################## part3 bruteforce for A\n",
    "def recover(A_flatten, n, p):\n",
    "    A = Matrix(Zmod(p), n, n)\n",
    "    for i in range(n):\n",
    "        for j in range(n):\n",
    "            A[i,j] = A_flatten[n*i+j]\n",
    "    return A\n",
    "\n",
    "for i in product([0,1], repeat=len(Ker)):\n",
    "    A = Matrix(GF(2), n, n)\n",
    "    for j in range(len(Ker)):\n",
    "        A += recover(i[j]*Ker[j], n, 2)\n",
    "    flag = AES.new(key=md5(str(A).encode()).digest(), nonce=b\"Tiffany\", mode=AES.MODE_CTR).decrypt(enc)\n",
    "    if(b\"NSSCTF\" in flag):\n",
    "        print(flag)\n",
    "        break\n",
    "\n",
    "\n",
    "#NSSCTF{U31nG_C0mmut@t1vE_and_Bru7eF0rCe!}"
   ]
  }
 ],
 "metadata": {
  "kernelspec": {
   "display_name": "SageMath 10.3",
   "language": "sage",
   "name": "sagemath"
  },
  "language_info": {
   "codemirror_mode": {
    "name": "ipython",
    "version": 3
   },
   "file_extension": ".py",
   "mimetype": "text/x-python",
   "name": "sage",
   "nbconvert_exporter": "python",
   "pygments_lexer": "ipython3",
   "version": "3.12.3"
  }
 },
 "nbformat": 4,
 "nbformat_minor": 2
}
