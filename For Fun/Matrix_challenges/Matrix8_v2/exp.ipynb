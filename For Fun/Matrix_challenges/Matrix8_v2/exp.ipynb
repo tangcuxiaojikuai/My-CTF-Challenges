{
 "cells": [
  {
   "cell_type": "code",
   "execution_count": 17,
   "metadata": {},
   "outputs": [
    {
     "name": "stderr",
     "output_type": "stream",
     "text": [
      "100%|███████████████████████████████████████████████████████████████████████████████████| 15/15 [06:16<00:00, 25.12s/it]"
     ]
    },
    {
     "name": "stdout",
     "output_type": "stream",
     "text": [
      "NSSCTF{d1m3nSi0n_1s_n0T_A_pr0B13m_FOr_th1S_T@sK}æi [\u001a¹\u0019´Â_Jÿa¤òÓxãC\u000eHí[|Ö©EC^ÿ¤, #Aa\u000fÞéÎî\u001d[ÇBv\u001aP_Õ54\u00035 âs¼~\u0001ñ\u0007Ø2 <lwKòFËN\\¸$¹sËÖö2z\u0004R$­\u0017Ä=#5\u001câuÄÒV¨ÃiµGwP\u00066k¾~Â<êJÃÝ°xÏØT\u001c1:È@x$\\rëh)YË\u001eT)6õÃétÍ+¤\u001b\u001b­÷úõ"
     ]
    },
    {
     "name": "stderr",
     "output_type": "stream",
     "text": [
      "\n"
     ]
    }
   ],
   "source": [
    "from Crypto.Util.number import *\n",
    "from tqdm import *\n",
    "from re import findall\n",
    "from subprocess import check_output\n",
    "\n",
    "def flatter(M):\n",
    "    # compile https://github.com/keeganryan/flatter and put it in $PATH\n",
    "    z = \"[[\" + \"]\\n[\".join(\" \".join(map(str, row)) for row in M) + \"]]\"\n",
    "    ret = check_output([\"flatter\"], input=z.encode())\n",
    "    return matrix(M.nrows(), M.ncols(), map(int, findall(b\"-?\\\\d+\", ret)))\n",
    "\n",
    "\n",
    "############################################################################################### data\n",
    "p = \n",
    "C = \n",
    "\n",
    "\n",
    "############################################################################################### exp\n",
    "############################################## part1 construct matrix equation\n",
    "n = 15\n",
    "L = Matrix(Zmod(p), 0, n^2)\n",
    "R = Matrix(Zmod(p), 0, n)\n",
    "for i in range(1):\n",
    "    Ai = Matrix(Zmod(p), n, n, C[i][0])\n",
    "    Ci = Matrix(Zmod(p), n, n, C[i][1])\n",
    "    temp = Ai\n",
    "    R = R.stack(Ci)\n",
    "    for j in range(1,n):\n",
    "        temp = temp.augment(Ai^(j+1))\n",
    "    L = L.stack(temp)\n",
    "\n",
    "############################################## part2 LLL\n",
    "F1 = []\n",
    "for i in trange(n):\n",
    "    L1 = Matrix(ZZ,L)\n",
    "    R1 = R[:,i:i+1]\n",
    "    M = block_matrix(ZZ,[\n",
    "        [1,L1.T.stack(Matrix(R1).T)],\n",
    "        [0,p]\n",
    "    ])\n",
    "    M[:,-n:] *= p\n",
    "    res = flatter(M)[0][:n]\n",
    "    F1.append(list(map(abs,res)))\n",
    "\n",
    "\n",
    "############################################## part3 recover F1\n",
    "for i in range(n):\n",
    "    for j in range(n):\n",
    "        print(chr(F1[j][i]), end=\"\")\n",
    "    \n",
    "\n",
    "#NSSCTF{d1m3nSi0n_1s_n0T_A_pr0B13m_FOr_th1S_T@sK}"
   ]
  }
 ],
 "metadata": {
  "kernelspec": {
   "display_name": "SageMath 10.3",
   "language": "sage",
   "name": "sagemath"
  },
  "language_info": {
   "codemirror_mode": {
    "name": "ipython",
    "version": 3
   },
   "file_extension": ".py",
   "mimetype": "text/x-python",
   "name": "python",
   "nbconvert_exporter": "python",
   "pygments_lexer": "ipython3",
   "version": "3.12.3"
  }
 },
 "nbformat": 4,
 "nbformat_minor": 2
}
