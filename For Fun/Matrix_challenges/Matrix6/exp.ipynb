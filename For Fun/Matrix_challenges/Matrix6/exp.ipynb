{
 "cells": [
  {
   "cell_type": "code",
   "execution_count": 4,
   "metadata": {},
   "outputs": [
    {
     "name": "stderr",
     "output_type": "stream",
     "text": [
      "100%|███████████████████████████████████████████████████████████████████████████████████| 11/11 [01:20<00:00,  7.32s/it]\n"
     ]
    },
    {
     "name": "stdout",
     "output_type": "stream",
     "text": [
      "b'NSSCTF{L@graNge_InterP0lati0n_w1Th_QUoT1enT}'\n"
     ]
    }
   ],
   "source": [
    "from Crypto.Util.number import *\n",
    "from tqdm import *\n",
    "\n",
    "def gcd(g1, g2):\n",
    "    while g2:\n",
    "        g1, g2 = g2, g1 % g2\n",
    "    return g1.monic()\n",
    "\n",
    "############################################################################################### data\n",
    "n = \n",
    "c = \n",
    "F = \n",
    "C = \n",
    "\n",
    "\n",
    "############################################################################################### exp\n",
    "nums = 10\n",
    "e = 1337\n",
    "PR.<x> = PolynomialRing(Zmod(n))\n",
    "PRq.<a> = PR.quo(x^e-c)\n",
    "L = Matrix(PRq,nums+1,nums+1)\n",
    "for i in trange(nums+1):\n",
    "    f = F[i]\n",
    "    ci = C[i]\n",
    "    temp = 0\n",
    "    for j in range(nums):\n",
    "        temp += f[j][0] * a^f[j][1]\n",
    "    for j in range(nums):\n",
    "        L[i,j] = temp^j\n",
    "    L[i,-1] = ci\n",
    "\n",
    "m = -gcd(L.det().lift(), x^e-c)[0]\n",
    "print(long_to_bytes(int(m)))\n",
    "\n",
    "\n",
    "#NSSCTF{L@graNge_InterP0lati0n_w1Th_QUoT1enT}"
   ]
  }
 ],
 "metadata": {
  "kernelspec": {
   "display_name": "SageMath 10.3",
   "language": "sage",
   "name": "sagemath"
  },
  "language_info": {
   "codemirror_mode": {
    "name": "ipython",
    "version": 3
   },
   "file_extension": ".py",
   "mimetype": "text/x-python",
   "name": "python",
   "nbconvert_exporter": "python",
   "pygments_lexer": "ipython3",
   "version": "3.12.3"
  }
 },
 "nbformat": 4,
 "nbformat_minor": 2
}
