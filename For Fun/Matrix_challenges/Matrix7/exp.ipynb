{
 "cells": [
  {
   "cell_type": "code",
   "execution_count": 26,
   "metadata": {
    "vscode": {
     "languageId": "python"
    }
   },
   "outputs": [
    {
     "name": "stdout",
     "output_type": "stream",
     "text": [
      "NSSCTF{M@tRiX_L4granGe_InterP0lati0n_1Sn't_H4rD}d\n",
      "L·ê\u001b¬KdrâÔïå%»¦&5ý\f¶é\tF\u0000¹\n",
      "M´ÁGôëS&¾ói$"
     ]
    }
   ],
   "source": [
    "from Crypto.Util.number import *\n",
    "\n",
    "############################################################################################### data\n",
    "p = \n",
    "C = \n",
    "\n",
    "\n",
    "############################################################################################### exp\n",
    "n = 10\n",
    "L = Matrix(Zmod(p), 0, n^2)\n",
    "R = Matrix(Zmod(p), 0, n)\n",
    "for i in range(n):\n",
    "    Ai = Matrix(Zmod(p), n, n, C[i][0])\n",
    "    Ci = Matrix(Zmod(p), n, n, C[i][1])\n",
    "    temp = Ai\n",
    "    R = R.stack(Ci)\n",
    "    for j in range(1,n):\n",
    "        temp = temp.augment(Ai^(j+1))\n",
    "    L = L.stack(temp)\n",
    "\n",
    "F = L.solve_right(R)\n",
    "M = F[:n]\n",
    "for i in range(n):\n",
    "    for j in range(n):\n",
    "        print(chr(M[i,j]), end=\"\")\n",
    "\n",
    "\n",
    "#NSSCTF{M@tRiX_L4granGe_InterP0lati0n_1Sn't_H4rD}"
   ]
  }
 ],
 "metadata": {
  "kernelspec": {
   "display_name": "SageMath 10.3",
   "language": "sage",
   "name": "sagemath"
  },
  "language_info": {
   "codemirror_mode": {
    "name": "ipython",
    "version": 3
   },
   "file_extension": ".py",
   "mimetype": "text/x-python",
   "name": "sage",
   "nbconvert_exporter": "python",
   "pygments_lexer": "ipython3",
   "version": "3.12.3"
  }
 },
 "nbformat": 4,
 "nbformat_minor": 2
}
