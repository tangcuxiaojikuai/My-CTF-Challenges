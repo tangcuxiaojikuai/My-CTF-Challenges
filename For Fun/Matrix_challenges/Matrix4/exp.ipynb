{
 "cells": [
  {
   "cell_type": "code",
   "execution_count": 2,
   "metadata": {
    "vscode": {
     "languageId": "python"
    }
   },
   "outputs": [
    {
     "name": "stdout",
     "output_type": "stream",
     "text": [
      "NSSCTF{AnotHer_S1mPl3_EIGeNVecT0Rs_tr1ck!}"
     ]
    }
   ],
   "source": [
    "from Crypto.Util.number import *\n",
    "\n",
    "############################################################################################### data\n",
    "p = \n",
    "C = \n",
    "\n",
    "\n",
    "############################################################################################### exp\n",
    "########################################## part1 to mat\n",
    "n = int(pow(len(C),1/2))\n",
    "C = Matrix(GF(p), n, n, C)\n",
    "\n",
    "########################################## part2 find eigenvectors\n",
    "L = []\n",
    "res = C.eigenvectors_right()\n",
    "for i in res:\n",
    "    eigenvalue = i[0]\n",
    "    eigenvector = i[1][0]\n",
    "    L = block_matrix(ZZ,[\n",
    "        [Matrix(ZZ,eigenvector)],\n",
    "        [p]\n",
    "    ])\n",
    "    res = L.LLL()[1]\n",
    "    if(abs(res[0]) < 128):\n",
    "        for i in res:\n",
    "            print(chr(abs(i)),end=\"\")\n",
    "        break\n",
    "\n",
    "\n",
    "#NSSCTF{AnotHer_S1mPl3_EIGeNVecT0Rs_tr1ck!}"
   ]
  }
 ],
 "metadata": {
  "kernelspec": {
   "display_name": "SageMath 10.3",
   "language": "sage",
   "name": "sagemath"
  },
  "language_info": {
   "codemirror_mode": {
    "name": "ipython",
    "version": 3
   },
   "file_extension": ".py",
   "mimetype": "text/x-python",
   "name": "sage",
   "nbconvert_exporter": "python",
   "pygments_lexer": "ipython3",
   "version": "3.12.3"
  }
 },
 "nbformat": 4,
 "nbformat_minor": 2
}
