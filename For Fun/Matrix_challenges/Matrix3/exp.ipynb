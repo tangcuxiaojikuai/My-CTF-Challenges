{
 "cells": [
  {
   "cell_type": "code",
   "execution_count": 14,
   "metadata": {
    "vscode": {
     "languageId": "python"
    }
   },
   "outputs": [
    {
     "name": "stdout",
     "output_type": "stream",
     "text": [
      "(201, 201)\n",
      "ª;\u0016yº\u0003ö\f\u001aªEkNSSCTF{fl@tt3n_4nd_LWE!}Ë\"â«<jÎ\u000e\u0004¯ä´\u001eáÖÛ·~Ý»\u000b~¿Àà15T^t1\u0019µ¶YÌj\u0013î¤3\n",
      "3s\u000bìß\u0006Éëg\u001b=o=³*È%\\®¬ûÚÇêçH\u0014Ï\u000bGì(ù<¤oh\u0012ô©^g&\u0004-\u0001\n"
     ]
    }
   ],
   "source": [
    "from Crypto.Util.number import *\n",
    "from re import findall\n",
    "from subprocess import check_output\n",
    "\n",
    "def flatter(M):\n",
    "    # compile https://github.com/keeganryan/flatter and put it in $PATH\n",
    "    z = \"[[\" + \"]\\n[\".join(\" \".join(map(str, row)) for row in M) + \"]]\"\n",
    "    ret = check_output([\"flatter\"], input=z.encode())\n",
    "    return matrix(M.nrows(), M.ncols(), map(int, findall(b\"-?\\\\d+\", ret)))\n",
    "\n",
    "############################################################################################### data\n",
    "p = \n",
    "W = \n",
    "X = \n",
    "Y = \n",
    "Z = \n",
    "C = \n",
    "\n",
    "\n",
    "############################################################################################### exp\n",
    "########################################## part1 to mat\n",
    "n = 10\n",
    "W, X, Y, Z, C = Matrix(Zmod(p),n,n,W), Matrix(Zmod(p),n,n,X), Matrix(Zmod(p),n,n,Y), Matrix(Zmod(p),n,n,Z), Matrix(Zmod(p),n,n,C)\n",
    "\n",
    "\n",
    "########################################## part2 flatten\n",
    "def flatten(M):\n",
    "    M_flatten = []\n",
    "    rows,cols = M.dimensions()\n",
    "    for i in range(rows):\n",
    "        for j in range(cols):\n",
    "            M_flatten.append(M[i,j])\n",
    "    return M_flatten\n",
    "\n",
    "E = W*X\n",
    "F = Y*Z\n",
    "EF = []\n",
    "for i in range(n):\n",
    "    for j in range(n):\n",
    "        temp = []\n",
    "        for k in range(n):\n",
    "            for m in range(n):\n",
    "                temp.append(F[m,j]*E[i,k])\n",
    "        EF.append(temp)\n",
    "\n",
    "EF = Matrix(Zmod(p), EF)\n",
    "CC = Matrix(Zmod(p), flatten(C)).T\n",
    "\n",
    "\n",
    "########################################## part3 LWE\n",
    "L = block_matrix(\n",
    "    [\n",
    "        [matrix.identity(n^2)*p, matrix.zero(n^2, n^2+1)],\n",
    "        [(matrix(EF).T).stack(-vector(CC)).change_ring(ZZ), matrix.identity(n^2+1)],\n",
    "    ]\n",
    ")\n",
    "#print(L.dimensions())\n",
    "res = flatter(L)[0]\n",
    "flag = \"\"\n",
    "for i in res:\n",
    "    flag += chr(abs(i))\n",
    "print(flag)\n",
    "\n",
    "\n",
    "#NSSCTF{fl@tt3n_4nd_LWE!}"
   ]
  }
 ],
 "metadata": {
  "kernelspec": {
   "display_name": "SageMath 10.3",
   "language": "sage",
   "name": "sagemath"
  },
  "language_info": {
   "codemirror_mode": {
    "name": "ipython",
    "version": 3
   },
   "file_extension": ".py",
   "mimetype": "text/x-python",
   "name": "sage",
   "nbconvert_exporter": "python",
   "pygments_lexer": "ipython3",
   "version": "3.12.3"
  }
 },
 "nbformat": 4,
 "nbformat_minor": 2
}
