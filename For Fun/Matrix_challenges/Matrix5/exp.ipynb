{
 "cells": [
  {
   "cell_type": "code",
   "execution_count": 38,
   "metadata": {},
   "outputs": [
    {
     "name": "stdout",
     "output_type": "stream",
     "text": [
      "NSSCTF{U_h4Ve_C0mp1et3d_H@lF_0f_MATRIX_cha1LenGe5!}\n"
     ]
    }
   ],
   "source": [
    "from Crypto.Util.number import *\n",
    "\n",
    "############################################################################################### data\n",
    "\n",
    "\n",
    "############################################################################################### exp\n",
    "########################################## part1 to mat\n",
    "n = int(pow(len(C),1/2))\n",
    "def to_mat(M):\n",
    "    mat = []\n",
    "    for i in range(n):\n",
    "        temp = []\n",
    "        for j in range(n):\n",
    "            temp.append(M[n*i+j])\n",
    "        mat.append(temp)\n",
    "    return Matrix(Zmod(p), mat)\n",
    "C = Matrix(GF(p),to_mat(C))\n",
    "\n",
    "########################################## part2 find eigenvectors\n",
    "L = []\n",
    "res = C.eigenvectors_right()\n",
    "flag_pad = []\n",
    "for i in res:\n",
    "    eigenvalue = i[0]\n",
    "    eigenvector = i[1][0]\n",
    "    L = block_matrix(ZZ,[\n",
    "        [Matrix(ZZ,eigenvector[-5:])],\n",
    "        [p]\n",
    "    ])\n",
    "    res = L.LLL()[1]\n",
    "    temp = \"\"\n",
    "    for i in res:\n",
    "        temp += chr(abs(i))\n",
    "    flag_pad.append(temp)\n",
    "\n",
    "prefix = \"NSSC\"\n",
    "flag = \"NSSC\"\n",
    "for i in range(n+3):\n",
    "    for j in flag_pad:\n",
    "        if(j[:4] == prefix[-4:]):\n",
    "            flag += j[-1]\n",
    "            prefix = j\n",
    "            break\n",
    "print(flag)\n",
    "\n",
    "\n",
    "#NSSCTF{U_h4Ve_C0mp1et3d_H@lF_0f_MATRIX_cha1LenGe5!}"
   ]
  }
 ],
 "metadata": {
  "kernelspec": {
   "display_name": "SageMath 10.3",
   "language": "sage",
   "name": "sagemath"
  },
  "language_info": {
   "codemirror_mode": {
    "name": "ipython",
    "version": 3
   },
   "file_extension": ".py",
   "mimetype": "text/x-python",
   "name": "python",
   "nbconvert_exporter": "python",
   "pygments_lexer": "ipython3",
   "version": "3.12.3"
  }
 },
 "nbformat": 4,
 "nbformat_minor": 2
}
