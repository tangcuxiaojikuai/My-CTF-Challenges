{
 "cells": [
  {
   "cell_type": "code",
   "execution_count": 2,
   "metadata": {
    "vscode": {
     "languageId": "python"
    }
   },
   "outputs": [
    {
     "name": "stdout",
     "output_type": "stream",
     "text": [
      "b'NSSCTF{A_S1mPl3_e1g3nVa1ue5_tr1ck!}'\n"
     ]
    }
   ],
   "source": [
    "from Crypto.Util.number import *\n",
    "from Crypto.Cipher import AES\n",
    "from hashlib import md5\n",
    "\n",
    "############################################################################################### data\n",
    "p = \n",
    "C = \n",
    "enc = \n",
    "\n",
    "############################################################################################### exp\n",
    "########################################## part1 to mat\n",
    "n = int(pow(len(C),1/2))\n",
    "C = Matrix(GF(p), n, n, C)\n",
    "\n",
    "\n",
    "########################################## part2 find eigenvalues and flag\n",
    "res = C.eigenvalues()\n",
    "e = bytes_to_long(b\"Tequila\")\n",
    "key = 0\n",
    "for i in res:\n",
    "    key += int(pow(i,inverse(e,p-1),p))\n",
    "\n",
    "flag = AES.new(key=md5(str(key).encode()).digest(), nonce=b\"Tiffany\", mode=AES.MODE_CTR).decrypt(enc)\n",
    "print(flag)\n",
    "\n",
    "\n",
    "#NSSCTF{A_S1mPl3_e1g3nVa1ue5_tr1ck!}"
   ]
  }
 ],
 "metadata": {
  "kernelspec": {
   "display_name": "SageMath 10.3",
   "language": "sage",
   "name": "sagemath"
  },
  "language_info": {
   "codemirror_mode": {
    "name": "ipython",
    "version": 3
   },
   "file_extension": ".py",
   "mimetype": "text/x-python",
   "name": "sage",
   "nbconvert_exporter": "python",
   "pygments_lexer": "ipython3",
   "version": "3.12.3"
  }
 },
 "nbformat": 4,
 "nbformat_minor": 2
}
