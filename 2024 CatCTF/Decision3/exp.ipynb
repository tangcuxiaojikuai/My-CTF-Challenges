{
 "cells": [
  {
   "cell_type": "code",
   "execution_count": 5,
   "metadata": {
    "vscode": {
     "languageId": "python"
    }
   },
   "outputs": [
    {
     "name": "stderr",
     "output_type": "stream",
     "text": [
      "  0%|▎                                                                                  | 1/296 [00:09<47:35,  9.68s/it]"
     ]
    },
    {
     "name": "stdout",
     "output_type": "stream",
     "text": [
      "0 0\n"
     ]
    },
    {
     "name": "stderr",
     "output_type": "stream",
     "text": [
      "  1%|▌                                                                                | 2/296 [00:31<1:21:38, 16.66s/it]"
     ]
    },
    {
     "name": "stdout",
     "output_type": "stream",
     "text": [
      "1 01\n"
     ]
    },
    {
     "name": "stderr",
     "output_type": "stream",
     "text": [
      "  1%|▊                                                                                | 3/296 [00:53<1:33:08, 19.07s/it]"
     ]
    },
    {
     "name": "stdout",
     "output_type": "stream",
     "text": [
      "2 011\n"
     ]
    },
    {
     "name": "stderr",
     "output_type": "stream",
     "text": [
      "  1%|█                                                                                | 4/296 [01:13<1:35:05, 19.54s/it]"
     ]
    },
    {
     "name": "stdout",
     "output_type": "stream",
     "text": [
      "3 0110\n"
     ]
    },
    {
     "name": "stderr",
     "output_type": "stream",
     "text": [
      "  2%|█▎                                                                               | 5/296 [01:26<1:23:11, 17.15s/it]"
     ]
    },
    {
     "name": "stdout",
     "output_type": "stream",
     "text": [
      "4 01100\n"
     ]
    },
    {
     "name": "stderr",
     "output_type": "stream",
     "text": [
      "  2%|█▋                                                                               | 6/296 [01:45<1:26:28, 17.89s/it]"
     ]
    },
    {
     "name": "stdout",
     "output_type": "stream",
     "text": [
      "5 011000\n"
     ]
    },
    {
     "name": "stderr",
     "output_type": "stream",
     "text": [
      "  2%|█▉                                                                               | 7/296 [02:08<1:33:16, 19.37s/it]"
     ]
    },
    {
     "name": "stdout",
     "output_type": "stream",
     "text": [
      "6 0110001\n"
     ]
    },
    {
     "name": "stderr",
     "output_type": "stream",
     "text": [
      "  3%|██▏                                                                              | 8/296 [02:30<1:38:00, 20.42s/it]"
     ]
    },
    {
     "name": "stdout",
     "output_type": "stream",
     "text": [
      "7 01100011\n"
     ]
    },
    {
     "name": "stderr",
     "output_type": "stream",
     "text": [
      "  3%|██▍                                                                              | 9/296 [02:36<1:15:50, 15.86s/it]"
     ]
    },
    {
     "name": "stdout",
     "output_type": "stream",
     "text": [
      "8 011000110\n"
     ]
    },
    {
     "name": "stderr",
     "output_type": "stream",
     "text": [
      "  3%|██▋                                                                             | 10/296 [02:58<1:24:36, 17.75s/it]"
     ]
    },
    {
     "name": "stdout",
     "output_type": "stream",
     "text": [
      "9 0110001101\n"
     ]
    },
    {
     "name": "stderr",
     "output_type": "stream",
     "text": [
      "  4%|██▉                                                                             | 11/296 [03:20<1:30:00, 18.95s/it]"
     ]
    },
    {
     "name": "stdout",
     "output_type": "stream",
     "text": [
      "10 01100011011\n"
     ]
    },
    {
     "name": "stderr",
     "output_type": "stream",
     "text": [
      "  4%|███▏                                                                            | 12/296 [03:39<1:29:35, 18.93s/it]"
     ]
    },
    {
     "name": "stdout",
     "output_type": "stream",
     "text": [
      "11 011000110110\n"
     ]
    },
    {
     "name": "stderr",
     "output_type": "stream",
     "text": [
      "  4%|███▌                                                                            | 13/296 [03:52<1:22:01, 17.39s/it]"
     ]
    },
    {
     "name": "stdout",
     "output_type": "stream",
     "text": [
      "12 0110001101100\n"
     ]
    },
    {
     "name": "stderr",
     "output_type": "stream",
     "text": [
      "  4%|███▌                                                                            | 13/296 [03:58<1:26:35, 18.36s/it]\n"
     ]
    },
    {
     "ename": "KeyboardInterrupt",
     "evalue": "",
     "output_type": "error",
     "traceback": [
      "\u001b[0;31m---------------------------------------------------------------------------\u001b[0m",
      "\u001b[0;31mKeyboardInterrupt\u001b[0m                         Traceback (most recent call last)",
      "Cell \u001b[0;32mIn[5], line 37\u001b[0m\n\u001b[1;32m     35\u001b[0m \u001b[38;5;28;01mfor\u001b[39;00m i \u001b[38;5;129;01min\u001b[39;00m \u001b[38;5;28mrange\u001b[39m(Integer(\u001b[38;5;241m2\u001b[39m)\u001b[38;5;241m*\u001b[39m\u001b[38;5;241m*\u001b[39mInteger(\u001b[38;5;241m13\u001b[39m)):\n\u001b[1;32m     36\u001b[0m     E1 \u001b[38;5;241m=\u001b[39m EllipticCurve(F, [Integer(\u001b[38;5;241m0\u001b[39m), output[bit][Integer(\u001b[38;5;241m0\u001b[39m)] \u001b[38;5;241m-\u001b[39m i, Integer(\u001b[38;5;241m0\u001b[39m), Integer(\u001b[38;5;241m1\u001b[39m), Integer(\u001b[38;5;241m0\u001b[39m)])\n\u001b[0;32m---> 37\u001b[0m     \u001b[38;5;28;01mif\u001b[39;00m(\u001b[43mE1\u001b[49m\u001b[38;5;241;43m.\u001b[39;49m\u001b[43mis_supersingular\u001b[49m\u001b[43m(\u001b[49m\u001b[43m)\u001b[49m):\n\u001b[1;32m     38\u001b[0m         res \u001b[38;5;241m=\u001b[39m check(E1\u001b[38;5;241m.\u001b[39mj_invariant(), output[bit][Integer(\u001b[38;5;241m1\u001b[39m)])\n\u001b[1;32m     39\u001b[0m         \u001b[38;5;28;01mif\u001b[39;00m(res \u001b[38;5;241m==\u001b[39m \u001b[38;5;28;01mTrue\u001b[39;00m):\n",
      "File \u001b[0;32m/usr/lib/python3.12/site-packages/sage/schemes/elliptic_curves/ell_finite_field.py:1307\u001b[0m, in \u001b[0;36mEllipticCurve_finite_field.is_supersingular\u001b[0;34m(self, proof)\u001b[0m\n\u001b[1;32m   1275\u001b[0m \u001b[38;5;28;01mdef\u001b[39;00m \u001b[38;5;21mis_supersingular\u001b[39m(\u001b[38;5;28mself\u001b[39m, proof\u001b[38;5;241m=\u001b[39m\u001b[38;5;28;01mTrue\u001b[39;00m):\n\u001b[1;32m   1276\u001b[0m \u001b[38;5;250m    \u001b[39m\u001b[38;5;124mr\u001b[39m\u001b[38;5;124;03m\"\"\"\u001b[39;00m\n\u001b[1;32m   1277\u001b[0m \u001b[38;5;124;03m    Return True if this elliptic curve is supersingular, else False.\u001b[39;00m\n\u001b[1;32m   1278\u001b[0m \n\u001b[0;32m   (...)\u001b[0m\n\u001b[1;32m   1305\u001b[0m \u001b[38;5;124;03m        True\u001b[39;00m\n\u001b[1;32m   1306\u001b[0m \u001b[38;5;124;03m    \"\"\"\u001b[39;00m\n\u001b[0;32m-> 1307\u001b[0m     \u001b[38;5;28;01mreturn\u001b[39;00m \u001b[43mis_j_supersingular\u001b[49m\u001b[43m(\u001b[49m\u001b[38;5;28;43mself\u001b[39;49m\u001b[38;5;241;43m.\u001b[39;49m\u001b[43mj_invariant\u001b[49m\u001b[43m(\u001b[49m\u001b[43m)\u001b[49m\u001b[43m,\u001b[49m\u001b[43m \u001b[49m\u001b[43mproof\u001b[49m\u001b[38;5;241;43m=\u001b[39;49m\u001b[43mproof\u001b[49m\u001b[43m)\u001b[49m\n",
      "File \u001b[0;32m/usr/lib/python3.12/site-packages/sage/schemes/elliptic_curves/ell_finite_field.py:2417\u001b[0m, in \u001b[0;36mis_j_supersingular\u001b[0;34m(j, proof)\u001b[0m\n\u001b[1;32m   2414\u001b[0m     P \u001b[38;5;241m=\u001b[39m E\u001b[38;5;241m.\u001b[39mrandom_element()\n\u001b[1;32m   2416\u001b[0m \u001b[38;5;28;01mif\u001b[39;00m n \u001b[38;5;129;01mis\u001b[39;00m \u001b[38;5;28;01mNone\u001b[39;00m:  \u001b[38;5;66;03m# not yet decided between p+1 and p-1\u001b[39;00m\n\u001b[0;32m-> 2417\u001b[0m     pP \u001b[38;5;241m=\u001b[39m \u001b[43mp\u001b[49m\u001b[38;5;241;43m*\u001b[39;49m\u001b[43mP\u001b[49m\n\u001b[1;32m   2418\u001b[0m     \u001b[38;5;28;01mif\u001b[39;00m pP[\u001b[38;5;241m0\u001b[39m] \u001b[38;5;241m!=\u001b[39m P[\u001b[38;5;241m0\u001b[39m]:  \u001b[38;5;66;03m# i.e. pP is neither P nor -P\u001b[39;00m\n\u001b[1;32m   2419\u001b[0m         \u001b[38;5;28;01mreturn\u001b[39;00m \u001b[38;5;28;01mFalse\u001b[39;00m\n",
      "File \u001b[0;32m/usr/lib/python3.12/site-packages/sage/rings/integer.pyx:1960\u001b[0m, in \u001b[0;36msage.rings.integer.Integer.__mul__ (build/cythonized/sage/rings/integer.c:23697)\u001b[0;34m()\u001b[0m\n\u001b[1;32m   1958\u001b[0m         return y\n\u001b[1;32m   1959\u001b[0m \n\u001b[0;32m-> 1960\u001b[0m     return coercion_model.bin_op(left, right, operator.mul)\n\u001b[1;32m   1961\u001b[0m \n\u001b[1;32m   1962\u001b[0m cpdef _mul_(self, right) noexcept:\n",
      "File \u001b[0;32m/usr/lib/python3.12/site-packages/sage/structure/coerce.pyx:1224\u001b[0m, in \u001b[0;36msage.structure.coerce.CoercionModel.bin_op (build/cythonized/sage/structure/coerce.c:15855)\u001b[0;34m()\u001b[0m\n\u001b[1;32m   1222\u001b[0m if action is not None:\n\u001b[1;32m   1223\u001b[0m     if (<Action>action)._is_left:\n\u001b[0;32m-> 1224\u001b[0m         return (<Action>action)._act_(x, y)\n\u001b[1;32m   1225\u001b[0m     else:\n\u001b[1;32m   1226\u001b[0m         return (<Action>action)._act_(y, x)\n",
      "File \u001b[0;32m/usr/lib/python3.12/site-packages/sage/structure/coerce_actions.pyx:157\u001b[0m, in \u001b[0;36msage.structure.coerce_actions.ActedUponAction._act_ (build/cythonized/sage/structure/coerce_actions.c:8616)\u001b[0;34m()\u001b[0m\n\u001b[1;32m    155\u001b[0m     <... 'sage.structure.coerce_actions.ActedUponAction'>\n\u001b[1;32m    156\u001b[0m \"\"\"\n\u001b[0;32m--> 157\u001b[0m return (<Element>x)._acted_upon_(g, not self._is_left)\n\u001b[1;32m    158\u001b[0m \n\u001b[1;32m    159\u001b[0m \n",
      "File \u001b[0;32m/usr/lib/python3.12/site-packages/sage/structure/element.pyx:940\u001b[0m, in \u001b[0;36msage.structure.element.Element._acted_upon_ (build/cythonized/sage/structure/element.c:16473)\u001b[0;34m()\u001b[0m\n\u001b[1;32m    938\u001b[0m     return None\n\u001b[1;32m    939\u001b[0m \n\u001b[0;32m--> 940\u001b[0m cpdef _acted_upon_(self, x, bint self_on_left) noexcept:\n\u001b[1;32m    941\u001b[0m     \"\"\"\n\u001b[1;32m    942\u001b[0m     Use this method to implement ``self`` acted on by x.\n",
      "File \u001b[0;32m/usr/lib/python3.12/site-packages/sage/schemes/elliptic_curves/ell_point.py:3862\u001b[0m, in \u001b[0;36mEllipticCurvePoint_finite_field._acted_upon_\u001b[0;34m(self, other, side)\u001b[0m\n\u001b[1;32m   3859\u001b[0m     pariQ \u001b[38;5;241m=\u001b[39m \u001b[38;5;28;01mNone\u001b[39;00m\n\u001b[1;32m   3861\u001b[0m \u001b[38;5;28;01mif\u001b[39;00m pariQ \u001b[38;5;129;01mis\u001b[39;00m \u001b[38;5;129;01mnot\u001b[39;00m \u001b[38;5;28;01mNone\u001b[39;00m:\n\u001b[0;32m-> 3862\u001b[0m     \u001b[38;5;28;01mif\u001b[39;00m \u001b[43mpariQ\u001b[49m\u001b[43m \u001b[49m\u001b[38;5;241;43m==\u001b[39;49m\u001b[43m \u001b[49m\u001b[43m[\u001b[49m\u001b[38;5;241;43m0\u001b[39;49m\u001b[43m]\u001b[49m:\n\u001b[1;32m   3863\u001b[0m         vQ \u001b[38;5;241m=\u001b[39m \u001b[38;5;241m0\u001b[39m\n\u001b[1;32m   3864\u001b[0m     \u001b[38;5;28;01melse\u001b[39;00m:\n",
      "File \u001b[0;32m/usr/lib/python3.12/site-packages/cypari2/gen.pyx:1637\u001b[0m, in \u001b[0;36mcypari2.gen.Gen.__richcmp__\u001b[0;34m()\u001b[0m\n\u001b[1;32m   1635\u001b[0m cdef Gen t1\n\u001b[1;32m   1636\u001b[0m try:\n\u001b[0;32m-> 1637\u001b[0m     t1 = objtogen(right)\n\u001b[1;32m   1638\u001b[0m except Exception:\n\u001b[1;32m   1639\u001b[0m     return NotImplemented\n",
      "File \u001b[0;32m/usr/lib/python3.12/site-packages/cypari2/gen.pyx:4824\u001b[0m, in \u001b[0;36mcypari2.gen.objtogen\u001b[0;34m()\u001b[0m\n\u001b[1;32m   4822\u001b[0m cdef list L\n\u001b[1;32m   4823\u001b[0m if isinstance(s, list):\n\u001b[0;32m-> 4824\u001b[0m     L = [objtogen(x) for x in <list>s]\n\u001b[1;32m   4825\u001b[0m     return list_of_Gens_to_Gen(L)\n\u001b[1;32m   4826\u001b[0m if isinstance(s, tuple):\n",
      "File \u001b[0;32m/usr/lib/python3.12/site-packages/cypari2/gen.pyx:4814\u001b[0m, in \u001b[0;36mcypari2.gen.objtogen\u001b[0;34m()\u001b[0m\n\u001b[1;32m   4812\u001b[0m     return m()\n\u001b[1;32m   4813\u001b[0m \n\u001b[0;32m-> 4814\u001b[0m cdef GEN g = PyObject_AsGEN(s)\n\u001b[1;32m   4815\u001b[0m if g is not NULL:\n\u001b[1;32m   4816\u001b[0m     res = new_gen_noclear(g)\n",
      "File \u001b[0;32m/usr/lib/python3.12/site-packages/cypari2/convert.pyx:551\u001b[0m, in \u001b[0;36mcypari2.convert.PyObject_AsGEN\u001b[0;34m()\u001b[0m\n\u001b[1;32m    549\u001b[0m     sig_off()\n\u001b[1;32m    550\u001b[0m elif isinstance(x, long):\n\u001b[0;32m--> 551\u001b[0m     sig_on()\n\u001b[1;32m    552\u001b[0m     g = PyLong_AS_GEN(x)\n\u001b[1;32m    553\u001b[0m     sig_off()\n",
      "\u001b[0;31mKeyboardInterrupt\u001b[0m: "
     ]
    }
   ],
   "source": [
    "from Crypto.Util.number import *\n",
    "from tqdm import *\n",
    "\n",
    "p = 26734989077687468135677691953151\n",
    "F.<i> = GF(p^2, modulus = x^2 + 1)\n",
    "\n",
    "def check(j1,a2):\n",
    "    PR.<Y> = PolynomialRing(F)\n",
    "    X = j1\n",
    "    f = (\n",
    "            X^3\n",
    "            + Y^3\n",
    "            - X^2 * Y^2\n",
    "            + 1488 * X^2 * Y\n",
    "            + 1488 * X * Y^2\n",
    "            - 162000 * X^2\n",
    "            - 162000 * Y^2\n",
    "            + 40773375 * X * Y\n",
    "            + 8748000000 * X\n",
    "            + 8748000000 * Y\n",
    "            - 157464000000000\n",
    "        )\n",
    "    for tt in f.roots():\n",
    "        PR1.<a> = PolynomialRing(F)\n",
    "        g = 256*(a^2-3)^3 - tt[0]*(a^2-4)\n",
    "        for ss in g.roots():\n",
    "            if((ss[0] - a2)[1] == 0):\n",
    "                return True\n",
    "    return False\n",
    "\n",
    "output = \n",
    "flag = \"\"\n",
    "for bit in trange(len(output)):\n",
    "    Found = 0\n",
    "    for tt in range(2^13):\n",
    "        E1 = EllipticCurve(F, [0, output[bit][0] - tt, 0, 1, 0])\n",
    "        if(E1.is_supersingular()):\n",
    "            res = check(E1.j_invariant(), output[bit][1])\n",
    "            if(res == True):\n",
    "                Found = 1\n",
    "                break\n",
    "\n",
    "    if(Found == 1):\n",
    "        flag += \"0\"\n",
    "    else:\n",
    "        flag += \"1\"\n",
    "    \n",
    "    print(bit, flag)\n",
    "\n",
    "print(long_to_bytes(int(flag,2)))\n",
    "\n",
    "\n",
    "#catctf{D1ffeRenT_M0duL@r_P0lynom1Al!}"
   ]
  }
 ],
 "metadata": {
  "kernelspec": {
   "display_name": "SageMath 10.3",
   "language": "sage",
   "name": "sagemath"
  },
  "language_info": {
   "codemirror_mode": {
    "name": "ipython",
    "version": 3
   },
   "file_extension": ".py",
   "mimetype": "text/x-python",
   "name": "sage",
   "nbconvert_exporter": "python",
   "pygments_lexer": "ipython3",
   "version": "3.12.3"
  }
 },
 "nbformat": 4,
 "nbformat_minor": 2
}
