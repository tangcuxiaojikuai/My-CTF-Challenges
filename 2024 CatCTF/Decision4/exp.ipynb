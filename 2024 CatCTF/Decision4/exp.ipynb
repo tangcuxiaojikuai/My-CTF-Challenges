{
 "cells": [
  {
   "cell_type": "code",
   "execution_count": 10,
   "metadata": {
    "vscode": {
     "languageId": "python"
    }
   },
   "outputs": [
    {
     "name": "stderr",
     "output_type": "stream",
     "text": [
      "100%|█████████████████████████████████████████████████████████████████████████████████| 248/248 [00:14<00:00, 17.02it/s]"
     ]
    },
    {
     "name": "stdout",
     "output_type": "stream",
     "text": [
      "b'catctf{S1mplest_C0d1ng_SySt3M!}'\n"
     ]
    },
    {
     "name": "stderr",
     "output_type": "stream",
     "text": [
      "\n"
     ]
    }
   ],
   "source": [
    "from Crypto.Util.number import *\n",
    "from tqdm import *\n",
    "\n",
    "p = 65537\n",
    "F = GF(p)\n",
    "n, k = 40, 12\n",
    "C = codes.GeneralizedReedSolomonCode(F.list()[:n], k)\n",
    "Co = C.encoder()\n",
    "D = C.decoder()\n",
    "\n",
    "output = \n",
    "\n",
    "flag = \"\"\n",
    "for bit in trange(len(output)):\n",
    "    Found = 0\n",
    "    for temp in range(n):\n",
    "        P = Matrix(Zmod(p), matrix(Permutation([i for i in range(1,n+1)][temp:] + [i for i in range(1,n+1)][:temp])))\n",
    "        codeword = P^(-1) * vector(F,output[bit])\n",
    "        try:\n",
    "            msg = D.decode_to_message(codeword).list()\n",
    "            encodeword = Co.encode(vector(F,msg))\n",
    "            err = codeword - encodeword\n",
    "            if(err.list().count(0) == n-k+1):\n",
    "                Found = 1\n",
    "                break\n",
    "        except:\n",
    "            pass\n",
    "    if(Found == 1):\n",
    "        flag += \"1\"\n",
    "    else:\n",
    "        flag += \"0\"\n",
    "\n",
    "print(long_to_bytes(int(flag,2)))\n",
    "\n",
    "\n",
    "#catctf{S1mplest_C0d1ng_SySt3M!}"
   ]
  }
 ],
 "metadata": {
  "kernelspec": {
   "display_name": "SageMath 10.3",
   "language": "sage",
   "name": "sagemath"
  },
  "language_info": {
   "codemirror_mode": {
    "name": "ipython",
    "version": 3
   },
   "file_extension": ".py",
   "mimetype": "text/x-python",
   "name": "sage",
   "nbconvert_exporter": "python",
   "pygments_lexer": "ipython3",
   "version": "3.12.3"
  }
 },
 "nbformat": 4,
 "nbformat_minor": 2
}
