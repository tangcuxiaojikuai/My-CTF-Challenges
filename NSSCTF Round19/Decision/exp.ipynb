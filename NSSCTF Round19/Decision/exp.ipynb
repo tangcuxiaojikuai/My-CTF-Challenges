{
 "cells": [
  {
   "cell_type": "code",
   "execution_count": 30,
   "metadata": {},
   "outputs": [
    {
     "name": "stderr",
     "output_type": "stream",
     "text": [
      "100%|█████████████████████████████████████████████████████████████████████████████████| 343/343 [00:17<00:00, 19.97it/s]"
     ]
    },
    {
     "name": "stdout",
     "output_type": "stream",
     "text": [
      "b\"NSSCTF{D3c1s1on_MRG_I5n'7_diFFiCulT_R1GHT?}\"\n"
     ]
    },
    {
     "name": "stderr",
     "output_type": "stream",
     "text": [
      "\n"
     ]
    }
   ],
   "source": [
    "from Crypto.Util.number import *\n",
    "from tqdm import *\n",
    "\n",
    "#matrix of MRG\n",
    "def build_iter_Matrix(a,b,p,length):\n",
    "    L = Matrix(Zmod(p),length+1,length+1)\n",
    "    for i in range(length-1):\n",
    "        L[i,i+1] = 1\n",
    "    for i in range(length):\n",
    "        L[length-1,i] = a[i]\n",
    "    L[length-1,-1] = b\n",
    "    L[-1,-1] = 1\n",
    "\n",
    "    return L\n",
    "\n",
    "Round = 2024\n",
    "A_len = 10\n",
    "leak_len = 1\n",
    "p = \n",
    "output = \n",
    "\n",
    "flag = \"\"\n",
    "for i in tqdm(output):\n",
    "    a,b,s = i[0],i[1],[i[2]]\n",
    "    L = build_iter_Matrix(a,b,p,A_len)\n",
    "    L = L^Round\n",
    "    L = (L.T)[:,:leak_len]\n",
    "    T = block_matrix(\n",
    "        [\n",
    "            [identity_matrix(A_len+1+1),Matrix(ZZ,L).stack(-vector(ZZ,s))],\n",
    "            [zero_matrix(leak_len,A_len+1+1),identity_matrix(leak_len)*p]\n",
    "        ]\n",
    "    )\n",
    "    Q = diagonal_matrix([1]*(A_len+1+1) + [2^1000]*leak_len)\n",
    "    T = T*Q\n",
    "    T = T.LLL()\n",
    "    T = T/Q\n",
    "    res = T[0]\n",
    "    if(abs(res[0]) < 128):\n",
    "        flag += \"0\"\n",
    "    else:\n",
    "        flag += \"1\"\n",
    "\n",
    "print(long_to_bytes(int(flag,2)))\n",
    "\n",
    "\n",
    "#NSSCTF{D3c1s1on_MRG_I5n'7_diFFiCulT_R1GHT?}"
   ]
  }
 ],
 "metadata": {
  "kernelspec": {
   "display_name": "SageMath 10.2",
   "language": "sage",
   "name": "sagemath"
  },
  "language_info": {
   "codemirror_mode": {
    "name": "ipython",
    "version": 3
   },
   "file_extension": ".py",
   "mimetype": "text/x-python",
   "name": "python",
   "nbconvert_exporter": "python",
   "pygments_lexer": "ipython3",
   "version": "3.11.6"
  }
 },
 "nbformat": 4,
 "nbformat_minor": 2
}
