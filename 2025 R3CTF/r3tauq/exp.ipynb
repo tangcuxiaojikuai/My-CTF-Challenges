{
 "cells": [
  {
   "cell_type": "code",
   "execution_count": 32,
   "id": "45688a33",
   "metadata": {},
   "outputs": [
    {
     "name": "stdout",
     "output_type": "stream",
     "text": [
      "🎁 : [9179146701312781699176828536776206089522408831979885137804817119605132824670673896777591947510882312771183820299882701673215709151977703193903616420702637, 188706257709485662889897107268939642280152413424908152855562194130538159229344166143895172825675717408926036013540426973122050052311570664470631060866326, 2682712522093551545327045002884555242296600010649692520986985330242254238488174707977608269114146421801908861117953931511928486194314901772151783668459458, 3450486865638869884029607240891787866556930082379406388731244160308196118526545881858756124529382085993846169512275853780392762817972043910244447967967496, 3978613946907291563196945341686358146709099241100401211979238259502207240204268447607153317575767659025152104242438128290935255838611081957683034411586841, 'fb459084099c44b75f2a1c256b604b187ab4877e78ea2b9fc5320471c319f9063428c72002310df82e1a424425189d0dabebe601031a']\n"
     ]
    }
   ],
   "source": [
    "from Crypto.Util.number import *\n",
    "flag = b\"R3CTF{LLL_C0pP3RSm17H_Quaternion_D1P_4ND_LLL_@g@in_XD}\"\n",
    "from Crypto.Cipher import AES\n",
    "from hashlib import md5\n",
    "import string\n",
    "\n",
    "p, q, r, x, y = [getPrime(256) for _ in range(3)] + [getPrime(256) << 128 for _ in range(2)]\n",
    "secret = \"\".join([choice(string.ascii_letters) for _ in range(77)])\n",
    "PR.<i, j, k> = QuaternionAlgebra(Zmod(p*q), -x, -y)\n",
    "print(\"🎁 :\", [p*q] + list(PR([x+y, p+x, q+y, r])^bytes_to_long(777*secret.encode())) + [AES.new(key=md5(secret.encode()).digest(), nonce=b\"Tiffany\", mode=AES.MODE_CTR).encrypt(flag).hex()])"
   ]
  },
  {
   "cell_type": "code",
   "execution_count": 33,
   "id": "b6bce10c",
   "metadata": {},
   "outputs": [
    {
     "name": "stderr",
     "output_type": "stream",
     "text": [
      " 94%|███████████████████████████████████████████████████████████████████████████▉     | 120/128 [00:16<00:01,  7.39it/s]\n"
     ]
    },
    {
     "name": "stdout",
     "output_type": "stream",
     "text": [
      "37 28\n"
     ]
    }
   ],
   "source": [
    "c = [p*q] + list(PR([x+y, p+x, q+y, r])^bytes_to_long(777*secret.encode())) + [AES.new(key=md5(secret.encode()).digest(), nonce=b\"Tiffany\", mode=AES.MODE_CTR).encrypt(flag).hex()]\n",
    "enc = c[:-1]\n",
    "\n",
    "######################################################### get r, p+x, q+y\n",
    "n, a0_, a1_, a2_, a3_ = enc\n",
    "t1, t2 = a1_*inverse(a3_, n), a2_*inverse(a3_, n)\n",
    "\n",
    "bits = 10\n",
    "for i in range(2^bits):\n",
    "    rh = i << (256-bits)\n",
    "    K = 2^(384-((256-bits)))\n",
    "    L = Matrix(ZZ, [\n",
    "        [K, 0, t1, t2],\n",
    "        [0, 2^384, rh*t1, rh*t2],\n",
    "        [0, 0, n, 0],\n",
    "        [0, 0, 0, n]\n",
    "    ])\n",
    "    L = L.LLL()\n",
    "    res = list(map(abs, L[0]))\n",
    "    if(abs(res[1]) == 2^384 and len(bin(abs(res[0] // K))[2:]) <= 256-bits):\n",
    "        if(len(bin(res[2])[2:]) == 384 and len(bin(res[3])[2:]) == 384):\n",
    "            r = (res[0] // K) + rh\n",
    "            if(isPrime(r)):\n",
    "                p_x, q_y = res[2], res[3]\n",
    "                break\n",
    "\n",
    "######################################################### coppersmith to get p, q, x, y\n",
    "from tqdm import *\n",
    "\n",
    "pl = p_x % 2^128\n",
    "bits = 7\n",
    "for i in trange(2^bits):\n",
    "    pll = pl + (i << 128)\n",
    "    PR.<aaa> = PolynomialRing(Zmod(n))\n",
    "    f = 2^(128+bits)*aaa + pll + 2^255\n",
    "    f = f.monic()\n",
    "    #res = uni_small_roots(f, X=2^(128-bits-1), beta=0.499, epsilon=0.01)\n",
    "    res = f.small_roots(X=2^(128-bits-1), beta=0.499, epsilon=0.025)\n",
    "    if(res != []):\n",
    "        p = 2^(128+bits)*int(res[0]) + pll + 2^255\n",
    "        q = n // p\n",
    "        assert p*q == n\n",
    "        x = p_x - p\n",
    "        y = q_y - q\n",
    "        break\n",
    "\n",
    "li_p = [i[0] for i in list(factor(p-1))]\n",
    "li_q = [i[0] for i in list(factor(q-1))]\n",
    "ellp = li_p[-1]\n",
    "ellq = li_q[-1]\n",
    "print(len(bin(max(li_p[:-1]))[2:]), len(bin(max(li_q[:-1]))[2:]))"
   ]
  },
  {
   "cell_type": "code",
   "execution_count": 34,
   "id": "4ef8755c",
   "metadata": {},
   "outputs": [
    {
     "name": "stdout",
     "output_type": "stream",
     "text": [
      "[(2, 4), (5, 1), (6359, 1), (78030424691, 1), (2295202126216837008978652626989273467723189905747503092156937, 1)]\n",
      "[(2, 2), (151, 1), (761, 1), (172264199, 1), (1272395036149799262058207121218496577799325253210771211721273551, 1)]\n"
     ]
    }
   ],
   "source": [
    "print(list(factor(p-1)))\n",
    "print(list(factor(q-1)))"
   ]
  },
  {
   "cell_type": "code",
   "execution_count": 5,
   "id": "ac1a1524",
   "metadata": {},
   "outputs": [
    {
     "name": "stdout",
     "output_type": "stream",
     "text": [
      "/mnt/c/Users/11423/cado-nfs\n"
     ]
    }
   ],
   "source": [
    "cd cado-nfs"
   ]
  },
  {
   "cell_type": "code",
   "execution_count": 28,
   "id": "1fbc757e",
   "metadata": {},
   "outputs": [],
   "source": [
    "######################################################### dlp\n",
    "def log_cado(ell, p, target):\n",
    "    import subprocess\n",
    "    command = [\n",
    "        './cado-nfs.py',\n",
    "        '-dlp',\n",
    "        '-ell', str(ell),\n",
    "        'target=' + str(target),\n",
    "        str(p),\n",
    "    ]\n",
    "    try:\n",
    "        result = subprocess.run(command, check=True, text=True, capture_output=True)\n",
    "        return int(result.stdout)\n",
    "    except:\n",
    "        pass\n",
    "\n",
    "def q2m(q):\n",
    "    a, b, c, d = q\n",
    "    return Matrix([\n",
    "        [a, -b*x, -c*y, -d*x*y],\n",
    "        [b, a,   -d*y,   c*y],\n",
    "        [c, d*x,  a,    -b*x],\n",
    "        [d, -c,    b,     a]\n",
    "    ])\n",
    "\n",
    "def dlp(mod, ell, p, q, x, y, r):\n",
    "    Fp = Zmod(mod)\n",
    "    M = Matrix(Fp, q2m([x+y, p+x, q+y, r]))\n",
    "    M_ = Matrix(Fp, q2m(enc[1:]))\n",
    "\n",
    "    ########################### mod ell\n",
    "    t1 = log_cado(ell, mod, pow(int(M.det()), (mod-1)//ell, mod))\n",
    "    t1_inv = inverse(t1,ell)\n",
    "    t2 = log_cado(ell, mod, pow(int(M_.det()), (mod-1)//ell, mod))\n",
    "    mell = t2*t1_inv % ell\n",
    "    mr = Fp(pow(int(M_.det()), ell, mod)).log(Fp(pow(int(M.det()), ell, mod)))\n",
    "    return crt([mr, mell], [(mod-1)//ell, ell])"
   ]
  },
  {
   "cell_type": "code",
   "execution_count": 35,
   "id": "3cdb9c6c",
   "metadata": {},
   "outputs": [
    {
     "name": "stdout",
     "output_type": "stream",
     "text": [
      "77565530500969654570664281202693157575372172179429872000108264650554354260959\n"
     ]
    }
   ],
   "source": [
    "mp = dlp(p, ellp, p, q, x, y, r)\n",
    "print(mp)"
   ]
  },
  {
   "cell_type": "code",
   "execution_count": 36,
   "id": "5944056b",
   "metadata": {},
   "outputs": [
    {
     "name": "stdout",
     "output_type": "stream",
     "text": [
      "82014589803612401378064393526170294232099989507975000336643912630887084005593\n"
     ]
    }
   ],
   "source": [
    "mq = dlp(q, ellq, p, q, x, y, r)\n",
    "print(mq)"
   ]
  },
  {
   "cell_type": "code",
   "execution_count": 37,
   "id": "9e091a88",
   "metadata": {},
   "outputs": [
    {
     "name": "stdout",
     "output_type": "stream",
     "text": [
      "507\n",
      "True\n"
     ]
    }
   ],
   "source": [
    "mpq = crt([mp, mq], [(p-1) // (2^4*3^0), (q-1) // (2*2*3^0)])\n",
    "M = Matrix(Zmod(n), q2m([x+y, p+x, q+y, r]))\n",
    "M_ = Matrix(Zmod(n), q2m(enc[1:]))\n",
    "\n",
    "print(len(bin(mpq)))\n",
    "print(M.det()^mpq == M_.det())"
   ]
  },
  {
   "cell_type": "code",
   "execution_count": 39,
   "id": "2f878fdd",
   "metadata": {},
   "outputs": [
    {
     "name": "stdout",
     "output_type": "stream",
     "text": [
      "(-18, -14, 24, 18, 24, -5, 29, 25, 29, -4, 28, -15, -28, -19, -20, 24, 11, 26, 29, -24, -3, 11, 28, 29, -6, 21, -26, 19, 19, -25, 26, -22, 25, -26, -12, 26, 25, -6, -18, 17, 18, -19, 7, -5, 18, 24, -20, -12, -14, 21, -20, -5, -20, -11, -13, 10, -22, 21, -22, -3, 17, -12, -19, -25, 24, 11, 21, -12, 19, 6, 5, 23, 22, -28, 23, -28, 19, 1, 0)\n",
      "pAtAstbcpQrhuDJQnZGrGgPRIXIrOQIuoXdJonKWvwQCvGwDppCrWzyhZEzwhuIJANyYzvzXuouOK\n"
     ]
    }
   ],
   "source": [
    "c = mpq\n",
    "mod = lcm([(p-1) // (2^4*3^0), (q-1) // (2*2*3^0)])\n",
    "nums = 77\n",
    "L = Matrix(ZZ, nums+2, nums+2)\n",
    "for i in range(nums):\n",
    "    L[i,i] = 1\n",
    "    L[i,-1] = (sum([256^(i+nums*j) for j in range(777)])) % mod\n",
    "    c = (c - (sum([256^(i+nums*j) for j in range(777)]))*93) % mod\n",
    "\n",
    "L[-2,-2] = 1\n",
    "L[-2,-1] = -c\n",
    "L[-1,-1] = mod\n",
    "L[:,-1:] *= mod\n",
    "L = L.BKZ(block_size=30)\n",
    "res = L[0]\n",
    "print(res)\n",
    "\n",
    "sign = res[-2]\n",
    "secret = \"\"\n",
    "res = (sign // abs(sign)) * res[:-2]\n",
    "secret = \"\"\n",
    "for j in res[::-1]:\n",
    "    secret += chr(93+j)\n",
    "print(secret)"
   ]
  },
  {
   "cell_type": "code",
   "execution_count": 41,
   "id": "3c345c94",
   "metadata": {},
   "outputs": [
    {
     "name": "stdout",
     "output_type": "stream",
     "text": [
      "b'R3CTF{LLL_C0pP3RSm17H_Quaternion_D1P_4ND_LLL_@g@in_XD}'\n"
     ]
    }
   ],
   "source": [
    "print(AES.new(key=md5(secret.encode()).digest(), nonce=b\"Tiffany\", mode=AES.MODE_CTR).decrypt(bytes.fromhex('fb459084099c44b75f2a1c256b604b187ab4877e78ea2b9fc5320471c319f9063428c72002310df82e1a424425189d0dabebe601031a')))"
   ]
  }
 ],
 "metadata": {
  "kernelspec": {
   "display_name": "SageMath 10.6",
   "language": "sage",
   "name": "sagemath"
  },
  "language_info": {
   "codemirror_mode": {
    "name": "ipython",
    "version": 3
   },
   "file_extension": ".py",
   "mimetype": "text/x-python",
   "name": "python",
   "nbconvert_exporter": "python",
   "pygments_lexer": "ipython3",
   "version": "3.13.3"
  }
 },
 "nbformat": 4,
 "nbformat_minor": 5
}
