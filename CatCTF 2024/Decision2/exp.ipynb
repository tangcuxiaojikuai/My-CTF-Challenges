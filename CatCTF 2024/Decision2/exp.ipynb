{
 "cells": [
  {
   "cell_type": "code",
   "execution_count": 16,
   "metadata": {},
   "outputs": [
    {
     "name": "stdout",
     "output_type": "stream",
     "text": [
      "b'catctf{M4p_70_Sp3c1al_Gr0uP}'\n"
     ]
    }
   ],
   "source": [
    "from Crypto.Util.number import *\n",
    "from itertools import *\n",
    "from tqdm import *\n",
    "\n",
    "output = \n",
    "p = 0x3cb868653d300b3fe80015554dd25db0fc01dcde95d4000000631bbd421715013955555555529c005c75d6c2ab00000000000ac79600d2abaaaaaaaaaaaaaa93eaf3ff000aaaaaaaaaaaaaaabeab000b\n",
    "primes = [67, 5563, 2099837, 773517157085353949]\n",
    "\n",
    "flag = \"\"\n",
    "for bit in range(len(output)):\n",
    "    Found = 0\n",
    "    for i in combinations(primes, r=2):\n",
    "        if(pow(output[bit], prod(i), p) == 1):\n",
    "            Found = 1\n",
    "            break\n",
    "    if(Found == 1):\n",
    "        flag += \"0\"\n",
    "    else:\n",
    "        flag += \"1\"\n",
    "print(long_to_bytes(int(\"\".join(flag),2)))\n",
    "\n",
    "\n",
    "#catctf{M4p_70_Sp3c1al_Gr0uP}"
   ]
  }
 ],
 "metadata": {
  "kernelspec": {
   "display_name": "SageMath 10.3",
   "language": "sage",
   "name": "sagemath"
  },
  "language_info": {
   "codemirror_mode": {
    "name": "ipython",
    "version": 3
   },
   "file_extension": ".py",
   "mimetype": "text/x-python",
   "name": "python",
   "nbconvert_exporter": "python",
   "pygments_lexer": "ipython3",
   "version": "3.12.3"
  }
 },
 "nbformat": 4,
 "nbformat_minor": 2
}
