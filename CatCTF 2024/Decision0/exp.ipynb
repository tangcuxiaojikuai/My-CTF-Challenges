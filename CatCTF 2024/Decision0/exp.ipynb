{
 "cells": [
  {
   "cell_type": "code",
   "execution_count": 2,
   "metadata": {},
   "outputs": [
    {
     "name": "stderr",
     "output_type": "stream",
     "text": [
      "100%|██████████████████████████████████████████████████████████████████████████████| 224/224 [00:00<00:00, 85574.65it/s]\n"
     ]
    },
    {
     "name": "stdout",
     "output_type": "stream",
     "text": [
      "b'catctf{P@y_4tt3nT1on_70_Det}'\n"
     ]
    },
    {
     "name": "stderr",
     "output_type": "stream",
     "text": [
      "100%|█████████████████████████████████████████████████████████████████████████████| 224/224 [00:00<00:00, 145234.83it/s]"
     ]
    },
    {
     "name": "stdout",
     "output_type": "stream",
     "text": [
      "b'catctf{P@y_4tt3nT1on_70_Det}'\n"
     ]
    },
    {
     "name": "stderr",
     "output_type": "stream",
     "text": [
      "\n"
     ]
    }
   ],
   "source": [
    "from Crypto.Util.number import *\n",
    "from tqdm import *\n",
    "\n",
    "output = \n",
    "n = 65537\n",
    "\n",
    "\n",
    "#################################################### det\n",
    "flag = \"\"\n",
    "for bit in trange(len(output)):\n",
    "    M = Matrix(Zmod(n), 4, 4, output[bit])\n",
    "    if(min(n-M.det(), M.det()) < 200):\n",
    "        flag += \"0\"\n",
    "    else:\n",
    "        flag += \"1\"\n",
    "print(long_to_bytes(int(flag,2)))\n",
    "\n",
    "\n",
    "#################################################### trace\n",
    "flag = \"\"\n",
    "for bit in trange(len(output)):\n",
    "    M = Matrix(Zmod(n), 4, 4, output[bit])\n",
    "    if(int(M.trace()) <= 12):\n",
    "        flag += \"0\"\n",
    "    else:\n",
    "        flag += \"1\"\n",
    "print(long_to_bytes(int(flag,2)))\n",
    "\n",
    "\n",
    "#catctf{P@y_4tt3nT1on_70_Det}"
   ]
  }
 ],
 "metadata": {
  "kernelspec": {
   "display_name": "SageMath 10.3",
   "language": "sage",
   "name": "sagemath"
  },
  "language_info": {
   "codemirror_mode": {
    "name": "ipython",
    "version": 3
   },
   "file_extension": ".py",
   "mimetype": "text/x-python",
   "name": "python",
   "nbconvert_exporter": "python",
   "pygments_lexer": "ipython3",
   "version": "3.12.3"
  }
 },
 "nbformat": 4,
 "nbformat_minor": 2
}
