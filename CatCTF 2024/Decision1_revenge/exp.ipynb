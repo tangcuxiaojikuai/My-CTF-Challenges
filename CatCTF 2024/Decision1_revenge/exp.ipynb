{
 "cells": [
  {
   "cell_type": "code",
   "execution_count": 1,
   "metadata": {
    "vscode": {
     "languageId": "python"
    }
   },
   "outputs": [
    {
     "ename": "",
     "evalue": "",
     "output_type": "error",
     "traceback": [
      "\u001b[1;31m在当前单元格或上一个单元格中执行代码时 Kernel 崩溃。\n",
      "\u001b[1;31m请查看单元格中的代码，以确定故障的可能原因。\n",
      "\u001b[1;31m单击<a href='https://aka.ms/vscodeJupyterKernelCrash'>此处</a>了解详细信息。\n",
      "\u001b[1;31m有关更多详细信息，请查看 Jupyter <a href='command:jupyter.viewOutput'>log</a>。"
     ]
    },
    {
     "ename": "",
     "evalue": "",
     "output_type": "error",
     "traceback": [
      "\u001b[1;31mCanceled future for execute_request message before replies were done"
     ]
    },
    {
     "ename": "",
     "evalue": "",
     "output_type": "error",
     "traceback": [
      "\u001b[1;31mCanceled future for execute_request message before replies were done. \n",
      "\u001b[1;31m有关更多详细信息，请查看 Jupyter <a href='command:jupyter.viewOutput'>log</a>。"
     ]
    }
   ],
   "source": [
    "from Crypto.Util.number import *\n",
    "from output import n,output\n",
    "from tqdm import *\n",
    "from re import findall\n",
    "from subprocess import check_output\n",
    "\n",
    "def flatter(M):\n",
    "    # compile https://github.com/keeganryan/flatter and put it in $PATH\n",
    "    z = \"[[\" + \"]\\n[\".join(\" \".join(map(str, row)) for row in M) + \"]]\"\n",
    "    ret = check_output([\"flatter\"], input=z.encode())\n",
    "    return matrix(M.nrows(), M.ncols(), map(int, findall(b\"-?\\\\d+\", ret)))\n",
    "\n",
    "#primal_attack2\n",
    "def primal_attack2(A,b,m,n,p,esz):\n",
    "    L = block_matrix(\n",
    "        [\n",
    "            [matrix(Zmod(p), A).T.echelon_form().change_ring(ZZ), 0],\n",
    "            [matrix.zero(m - n, n).augment(matrix.identity(m - n) * p), 0],\n",
    "            [matrix(ZZ, b), 1],\n",
    "        ]\n",
    "    )\n",
    "    #print(L.dimensions())\n",
    "    Q = diagonal_matrix([1]*m + [esz])\n",
    "    L *= Q\n",
    "    L = flatter(L)\n",
    "    L /= Q\n",
    "    res = L[0]\n",
    "    if(all(abs(i) <= esz for i in res) and abs(res[-1]) == 1):\n",
    "        return True\n",
    "    else:\n",
    "        return False\n",
    "\n",
    "\n",
    "nums = 80\n",
    "m = 40\n",
    "\n",
    "flag = \"\"\n",
    "for bit in trange(len(output)):\n",
    "    A = Matrix(Zmod(n), 0, m)\n",
    "    b = []\n",
    "    for i in range(nums):\n",
    "        A = A.stack(vector(Zmod(n), [pow(i,j,n) for j in range(m)]))\n",
    "        b.append(output[bit][i])\n",
    "    A = Matrix(ZZ, A)\n",
    "    b = vector(ZZ, b)\n",
    "    check = primal_attack2(A,b,nums,m,n,1)\n",
    "    if(check == True):\n",
    "        flag += \"0\"\n",
    "    else:\n",
    "        flag += \"1\"\n",
    "\n",
    "print(long_to_bytes(int(flag,2)))\n",
    "\n",
    "\n",
    "#catctf{Th1s_T1m3_c4n't_Brut3f0rCe!}"
   ]
  }
 ],
 "metadata": {
  "kernelspec": {
   "display_name": "SageMath 10.3",
   "language": "sage",
   "name": "sagemath"
  },
  "language_info": {
   "codemirror_mode": {
    "name": "ipython",
    "version": 3
   },
   "file_extension": ".py",
   "mimetype": "text/x-python",
   "name": "sage",
   "nbconvert_exporter": "python",
   "pygments_lexer": "ipython3",
   "version": "3.12.3"
  }
 },
 "nbformat": 4,
 "nbformat_minor": 2
}
