{
 "cells": [
  {
   "cell_type": "code",
   "execution_count": 2,
   "metadata": {},
   "outputs": [
    {
     "name": "stderr",
     "output_type": "stream",
     "text": [
      "100%|█████████████████████████████████████████████████████████████████████████████████| 256/256 [00:09<00:00, 25.65it/s]"
     ]
    },
    {
     "name": "stdout",
     "output_type": "stream",
     "text": [
      "b'catctf{l4gRanG3_@nD_LWE_s@mple!}'\n"
     ]
    },
    {
     "name": "stderr",
     "output_type": "stream",
     "text": [
      "\n"
     ]
    }
   ],
   "source": [
    "from Crypto.Util.number import *\n",
    "from tqdm import *\n",
    "\n",
    "#primal_attack2\n",
    "def primal_attack2(A,b,m,n,p,esz):\n",
    "    L = block_matrix(\n",
    "        [\n",
    "            [matrix(Zmod(p), A).T.echelon_form().change_ring(ZZ), 0],\n",
    "            [matrix.zero(m - n, n).augment(matrix.identity(m - n) * p), 0],\n",
    "            [matrix(ZZ, b), 1],\n",
    "        ]\n",
    "    )\n",
    "    #print(L.dimensions())\n",
    "    Q = diagonal_matrix([1]*m + [esz])\n",
    "    L *= Q\n",
    "    L = L.LLL()\n",
    "    L /= Q\n",
    "    res = L[0]\n",
    "    if(all(i in [0,1,-1] for i in res) and abs(res[-1]) == 1):\n",
    "        return True\n",
    "    else:\n",
    "        return False\n",
    "\n",
    "\n",
    "output = \n",
    "n = 65537\n",
    "nums = 40\n",
    "\n",
    "flag = \"\"\n",
    "for bit in trange(len(output)):\n",
    "    A = Matrix(Zmod(n), 0, 20)\n",
    "    b = []\n",
    "    for i in range(nums):\n",
    "        A = A.stack(vector(Zmod(n), [pow(i,j,n) for j in range(20)]))\n",
    "        b.append(output[bit][i])\n",
    "    A = Matrix(ZZ, A)\n",
    "    b = vector(ZZ, b)\n",
    "    check = primal_attack2(A,b,nums,20,n,1)\n",
    "    if(check == True):\n",
    "        flag += \"0\"\n",
    "    else:\n",
    "        flag += \"1\"\n",
    "\n",
    "print(long_to_bytes(int(flag,2)))\n",
    "\n",
    "\n",
    "#catctf{l4gRanG3_@nD_LWE_s@mple!}"
   ]
  }
 ],
 "metadata": {
  "kernelspec": {
   "display_name": "SageMath 10.3",
   "language": "sage",
   "name": "sagemath"
  },
  "language_info": {
   "codemirror_mode": {
    "name": "ipython",
    "version": 3
   },
   "file_extension": ".py",
   "mimetype": "text/x-python",
   "name": "python",
   "nbconvert_exporter": "python",
   "pygments_lexer": "ipython3",
   "version": "3.12.3"
  }
 },
 "nbformat": 4,
 "nbformat_minor": 2
}
