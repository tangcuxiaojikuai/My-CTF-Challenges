{
 "cells": [
  {
   "cell_type": "code",
   "execution_count": 1,
   "metadata": {},
   "outputs": [
    {
     "name": "stderr",
     "output_type": "stream",
     "text": [
      "100%|█████████████████████████████████████████████████████████████████████████████| 19968/19968 [05:06<00:00, 65.07it/s]\n"
     ]
    }
   ],
   "source": [
    "from Crypto.Util.number import *\n",
    "import random\n",
    "from tqdm import *\n",
    "\n",
    "######################################################### part1 recover MT and get seed\n",
    "RNG = random.Random()\n",
    "\n",
    "def construct_a_row(RNG):\n",
    "    row = []\n",
    "    RNG.getrandbits(128*11)\n",
    "    for i in range(bytes_to_long(b\"SU\")):\n",
    "        RNG.getrandbits(128*10)\n",
    "        row += [int(int(RNG.getrandbits(128)) & 1)]\n",
    "    return row\n",
    "\n",
    "L = []\n",
    "for i in trange(19968):\n",
    "    state = [0]*624\n",
    "    temp = \"0\"*i + \"1\"*1 + \"0\"*(19968-1-i)\n",
    "    for j in range(624):\n",
    "        state[j] = int(temp[32*j:32*j+32],2)\n",
    "    RNG.setstate((3,tuple(state+[624]),None))\n",
    "    L.append(construct_a_row(RNG))\n",
    "\n",
    "L = Matrix(GF(2),L)"
   ]
  },
  {
   "cell_type": "code",
   "execution_count": 5,
   "metadata": {},
   "outputs": [],
   "source": [
    "K = L.T\n",
    "KK = K[:19937, [0]+list(range(32,19968))]"
   ]
  },
  {
   "cell_type": "code",
   "execution_count": 8,
   "metadata": {},
   "outputs": [],
   "source": [
    "KK_inv = KK^(-1)"
   ]
  },
  {
   "cell_type": "code",
   "execution_count": 19,
   "metadata": {},
   "outputs": [
    {
     "name": "stdout",
     "output_type": "stream",
     "text": [
      "True\n"
     ]
    }
   ],
   "source": [
    "from pwn import *\n",
    "\n",
    "context.log_level = \"critical\"\n",
    "\n",
    "#sh = process([\"sage\", \"chall.sage\"])\n",
    "sh = remote(\"1.95.46.185\", 10005)\n",
    "sh.recvuntil(b\" :\")\n",
    "points = eval(sh.recvline().strip().decode())\n",
    "known = [i[0] % 2 for i in points]\n",
    "\n",
    "print(1 in known)\n",
    "if(1 not in known):\n",
    "    sh.close()"
   ]
  },
  {
   "cell_type": "code",
   "execution_count": 20,
   "metadata": {},
   "outputs": [
    {
     "name": "stdout",
     "output_type": "stream",
     "text": [
      "🚩 : b'SUCTF{bytes_to_long_of_SU_seems_bigger_than_19937_XD_try_random_matrix(GF(2),20000,20000)_and_see_its_rank!}'\n",
      "\n"
     ]
    }
   ],
   "source": [
    "R = vector(GF(2), known[:19937])\n",
    "res = (KK_inv * R).list()\n",
    "res = [res[0]] + [0]*31 + res[1:]\n",
    "\n",
    "init = \"\".join(list(map(str, res)))\n",
    "state = []\n",
    "for i in range(624):\n",
    "    state.append(int(init[32*i:32*i+32],2))\n",
    "\n",
    "from hashlib import md5\n",
    "import random\n",
    "RNG1 = random.Random()\n",
    "RNG1.setstate((3,tuple(state+[624]),None))\n",
    "\n",
    "g = [RNG1.getrandbits(128) for i in range(11)][::-1]\n",
    "\n",
    "sh.recvuntil(b\"Show me :)\")\n",
    "sh.sendline(str(md5(str(g).encode()).hexdigest()).encode())\n",
    "\n",
    "print(sh.recvline().decode())\n",
    "sh.close()\n",
    "\n",
    "\n",
    "#SUCTF{bytes_to_long_of_SU_seems_bigger_than_19937_XD_try_random_matrix(GF(2),20000,20000)_and_see_its_rank!}"
   ]
  }
 ],
 "metadata": {
  "kernelspec": {
   "display_name": "SageMath 10.5",
   "language": "sage",
   "name": "sagemath"
  },
  "language_info": {
   "codemirror_mode": {
    "name": "ipython",
    "version": 3
   },
   "file_extension": ".py",
   "mimetype": "text/x-python",
   "name": "python",
   "nbconvert_exporter": "python",
   "pygments_lexer": "ipython3",
   "version": "3.12.7"
  }
 },
 "nbformat": 4,
 "nbformat_minor": 2
}
