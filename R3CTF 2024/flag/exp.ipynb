{
 "cells": [
  {
   "cell_type": "code",
   "execution_count": 2,
   "metadata": {},
   "outputs": [
    {
     "name": "stdout",
     "output_type": "stream",
     "text": [
      "2565991931871938384822588623964880023351125901093463977291141641724850219374\n"
     ]
    }
   ],
   "source": [
    "from Crypto.Util.number import *\n",
    "\n",
    "def gen_poly(min_bound,max_bound):\n",
    "    f = 0\n",
    "    for i in range(min_bound,max_bound+1):\n",
    "        f += x^i\n",
    "    return f\n",
    "\n",
    "PR.<x> = PolynomialRing(ZZ)\n",
    "f = 1\n",
    "for i in range(1,10):\n",
    "    tt = gen_poly(2**(i),2**(i+10))\n",
    "    f *= tt^2\n",
    "\n",
    "p = f.monomial_coefficient(x^(2**20-ord(\"🚩\")))\n",
    "print(p)\n",
    "\n",
    "#2565991931871938384822588623964880023351125901093463977291141641724850219374"
   ]
  }
 ],
 "metadata": {
  "kernelspec": {
   "display_name": "SageMath 10.3",
   "language": "sage",
   "name": "sagemath"
  },
  "language_info": {
   "codemirror_mode": {
    "name": "ipython",
    "version": 3
   },
   "file_extension": ".py",
   "mimetype": "text/x-python",
   "name": "python",
   "nbconvert_exporter": "python",
   "pygments_lexer": "ipython3",
   "version": "3.12.3"
  }
 },
 "nbformat": 4,
 "nbformat_minor": 2
}
